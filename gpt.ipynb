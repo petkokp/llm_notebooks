{
 "cells": [
  {
   "cell_type": "markdown",
   "metadata": {},
   "source": [
    "# Dataset"
   ]
  },
  {
   "cell_type": "code",
   "execution_count": 6,
   "metadata": {},
   "outputs": [
    {
     "name": "stdout",
     "output_type": "stream",
     "text": [
      "--2024-09-23 12:40:58--  https://chitanka.info/text/4618-frankenshtajn.txt.zip\n",
      "Resolving chitanka.info (chitanka.info)... 2a06:98c1:3121::2, 2a06:98c1:3120::2, 188.114.96.2, ...\n",
      "Connecting to chitanka.info (chitanka.info)|2a06:98c1:3121::2|:443... connected.\n",
      "HTTP request sent, awaiting response... 302 Found\n",
      "Location: https://m3.chitanka.info/text/4618-frankenshtajn.txt.zip?filename= [following]\n",
      "--2024-09-23 12:40:58--  https://m3.chitanka.info/text/4618-frankenshtajn.txt.zip?filename=\n",
      "Resolving m3.chitanka.info (m3.chitanka.info)... 2a06:98c1:3120::2, 2a06:98c1:3121::2, 188.114.97.2, ...\n",
      "Connecting to m3.chitanka.info (m3.chitanka.info)|2a06:98c1:3120::2|:443... connected.\n",
      "HTTP request sent, awaiting response... 302 Found\n",
      "Location: /cache/dl/Mary-Shelley_-_Frankenshtajn_-_4618.txt.zip [following]\n",
      "--2024-09-23 12:40:58--  https://m3.chitanka.info/cache/dl/Mary-Shelley_-_Frankenshtajn_-_4618.txt.zip\n",
      "Reusing existing connection to [m3.chitanka.info]:443.\n",
      "HTTP request sent, awaiting response... 200 OK\n",
      "Length: 199044 (194K) [application/zip]\n",
      "Saving to: ‘4618-frankenshtajn.txt.zip’\n",
      "\n",
      "4618-frankenshtajn. 100%[===================>] 194.38K  --.-KB/s    in 0.04s   \n",
      "\n",
      "2024-09-23 12:40:58 (4.52 MB/s) - ‘4618-frankenshtajn.txt.zip’ saved [199044/199044]\n",
      "\n"
     ]
    }
   ],
   "source": [
    "import zipfile\n",
    "\n",
    "!wget https://chitanka.info/text/4618-frankenshtajn.txt.zip\n",
    "\n",
    "path = \"4618-frankenshtajn.txt.zip\"\n",
    "\n",
    "with zipfile.ZipFile(path, 'r') as zip_ref:\n",
    "    zip_ref.extractall(\".\")\n",
    "    \n",
    "!mv \"Mary-Shelley -  - . Frankenshtajn - 4618.txt\" \"dataset.txt\"\n",
    "\n",
    "!rm $path\n"
   ]
  },
  {
   "cell_type": "code",
   "execution_count": 7,
   "metadata": {},
   "outputs": [],
   "source": [
    "with open(\"dataset.txt\", \"r\") as f:\n",
    "    text = f.read()"
   ]
  },
  {
   "cell_type": "markdown",
   "metadata": {},
   "source": [
    "# Vocabulary"
   ]
  },
  {
   "cell_type": "code",
   "execution_count": 8,
   "metadata": {},
   "outputs": [
    {
     "data": {
      "text/plain": [
       "'\\t\\n !$()*,-./0123456789:;=?DIMNVX[]_abcdefghijkmnoprstuvx«»АБВГДЕЖЗИКЛМНОПРСТУФХЦЧШЩЮЯабвгдежзийклмнопрстуфхцчшщъьюя–—“„…\\ufeff'"
      ]
     },
     "execution_count": 8,
     "metadata": {},
     "output_type": "execute_result"
    }
   ],
   "source": [
    "unique_chars = set(text)\n",
    "sorted_chars = sorted(unique_chars)\n",
    "sorted_chars\n",
    "\"\".join(sorted_chars)"
   ]
  },
  {
   "cell_type": "markdown",
   "metadata": {},
   "source": [
    "# Tokenizer"
   ]
  },
  {
   "cell_type": "code",
   "execution_count": 9,
   "metadata": {},
   "outputs": [],
   "source": [
    "encoding = { c: i for i, c in enumerate(sorted_chars) }\n",
    "\n",
    "def encode(text: str):\n",
    "    return [encoding[c] for c in text]\n",
    "\n",
    "def test_encode():\n",
    "    test_text = \"франкейщайн!\"\n",
    "    test_encoding = encode(test_text)\n",
    "    assert test_encoding[0] == encoding[test_text[0]]\n",
    "    assert test_encoding[1] == encoding[test_text[1]]\n",
    "    \n",
    "# test_encode()\n",
    "\n",
    "decoding = { i: c for i, c in enumerate(sorted_chars) }\n",
    "\n",
    "test_text = \"франкейщайн!\"\n",
    "test_encoding = encode(test_text)\n",
    "\n",
    "def decode(arr):\n",
    "    return \"\".join([decoding[t] for t in arr])\n",
    "\n",
    "def test_decode():\n",
    "    test_text = \"франкейщайн!\"\n",
    "    assert decode(encode(test_text)) == test_text\n",
    "    \n",
    "# test_decode()"
   ]
  },
  {
   "cell_type": "code",
   "execution_count": 10,
   "metadata": {},
   "outputs": [
    {
     "data": {
      "text/plain": [
       "tensor([120,   0,  69,  ...,  13,   1,   1])"
      ]
     },
     "execution_count": 10,
     "metadata": {},
     "output_type": "execute_result"
    }
   ],
   "source": [
    "import torch\n",
    "\n",
    "data = torch.tensor(encode(text))\n",
    "\n",
    "data"
   ]
  },
  {
   "cell_type": "code",
   "execution_count": 11,
   "metadata": {},
   "outputs": [
    {
     "data": {
      "text/plain": [
       "tensor([120,   0,  69,  ..., 102,  95,  99])"
      ]
     },
     "execution_count": 11,
     "metadata": {},
     "output_type": "execute_result"
    }
   ],
   "source": [
    "train_data_size = round(len(data) * 0.9)\n",
    "\n",
    "train_data = data[:train_data_size]\n",
    "\n",
    "train_data"
   ]
  },
  {
   "cell_type": "code",
   "execution_count": 12,
   "metadata": {},
   "outputs": [
    {
     "data": {
      "text/plain": [
       "tensor([103,  99,   2,  ...,  13,   1,   1])"
      ]
     },
     "execution_count": 12,
     "metadata": {},
     "output_type": "execute_result"
    }
   ],
   "source": [
    "val_data = data[train_data_size:]\n",
    "\n",
    "val_data"
   ]
  },
  {
   "cell_type": "markdown",
   "metadata": {},
   "source": [
    "# Model input and output (output = input[last + 1])"
   ]
  },
  {
   "cell_type": "code",
   "execution_count": 13,
   "metadata": {},
   "outputs": [
    {
     "data": {
      "text/plain": [
       "tensor([120,   0,  69,  90, 101,  93,   2,  81,  90])"
      ]
     },
     "execution_count": 13,
     "metadata": {},
     "output_type": "execute_result"
    }
   ],
   "source": [
    "context_length = 8\n",
    "\n",
    "train_data[:context_length+1]"
   ]
  },
  {
   "cell_type": "code",
   "execution_count": 14,
   "metadata": {},
   "outputs": [
    {
     "data": {
      "text/plain": [
       "tensor([120,   0,  69,  90, 101,  93,   2,  81])"
      ]
     },
     "execution_count": 14,
     "metadata": {},
     "output_type": "execute_result"
    }
   ],
   "source": [
    "model_input = train_data[:context_length]\n",
    "\n",
    "model_input"
   ]
  },
  {
   "cell_type": "code",
   "execution_count": 15,
   "metadata": {},
   "outputs": [
    {
     "data": {
      "text/plain": [
       "'\\ufeff\\tМери Ш'"
      ]
     },
     "execution_count": 15,
     "metadata": {},
     "output_type": "execute_result"
    }
   ],
   "source": [
    "decode(model_input.numpy().tolist())"
   ]
  },
  {
   "cell_type": "code",
   "execution_count": 16,
   "metadata": {},
   "outputs": [
    {
     "data": {
      "text/plain": [
       "tensor(90)"
      ]
     },
     "execution_count": 16,
     "metadata": {},
     "output_type": "execute_result"
    }
   ],
   "source": [
    "model_output = train_data[1:context_length+1]\n",
    "\n",
    "model_output[-1]"
   ]
  },
  {
   "cell_type": "code",
   "execution_count": 17,
   "metadata": {},
   "outputs": [
    {
     "data": {
      "text/plain": [
       "'е'"
      ]
     },
     "execution_count": 17,
     "metadata": {},
     "output_type": "execute_result"
    }
   ],
   "source": [
    "decode(model_output.numpy().tolist())[-1]"
   ]
  },
  {
   "cell_type": "markdown",
   "metadata": {},
   "source": [
    "# Batch"
   ]
  },
  {
   "cell_type": "code",
   "execution_count": 18,
   "metadata": {},
   "outputs": [],
   "source": [
    "device = \"cuda\" if torch.cuda.is_available() else \"cpu\"\n",
    "\n",
    "def get_batch(split: str, batch_size: int, context_length: int):\n",
    "    batch_data = train_data if split == \"train\" else val_data\n",
    "    ix = torch.randint(len(batch_data) - context_length, (batch_size,))\n",
    "\n",
    "    x = torch.stack([batch_data[i:i+context_length] for i in ix])\n",
    "        \n",
    "    y = torch.stack([batch_data[i+1:i+context_length+1] for i in ix])\n",
    "    \n",
    "    x, y = x.to(device), y.to(device)\n",
    "    \n",
    "    return x, y"
   ]
  },
  {
   "cell_type": "markdown",
   "metadata": {},
   "source": [
    "# Log loss"
   ]
  },
  {
   "cell_type": "code",
   "execution_count": 19,
   "metadata": {},
   "outputs": [],
   "source": [
    "@torch.no_grad()\n",
    "def estimate_loss(model, iterations, batch_size, context_length):\n",
    "    estimation = {}\n",
    "    model.eval()\n",
    "    for split in [\"train\", \"val\"]:\n",
    "        losses = torch.zeros(iterations)\n",
    "        for k in range(iterations):\n",
    "            X, Y = get_batch(split, batch_size, context_length)\n",
    "            X, Y = X.to(device), Y.to(device)\n",
    "            _, loss = model(X, Y)\n",
    "            losses[k] = loss.item()\n",
    "        estimation[split] = losses.mean()\n",
    "    model.train()\n",
    "    return estimation"
   ]
  },
  {
   "cell_type": "markdown",
   "metadata": {},
   "source": [
    "# Bigram model"
   ]
  },
  {
   "cell_type": "code",
   "execution_count": 20,
   "metadata": {},
   "outputs": [
    {
     "name": "stdout",
     "output_type": "stream",
     "text": [
      "\tажПka…M\n",
      "m(ухXМ2t]имkуК;$f8mvР59мcгпk﻿0 3=3Ц/:,*;д1]ФтМцMвфaяЗпh„Фj»юb8u:,4Н3X8ЯkМ“юttггк:,e8.ОТшщДшр\n"
     ]
    }
   ],
   "source": [
    "import torch.nn as nn\n",
    "import torch.nn.functional as F\n",
    "\n",
    "vocabulary_size = len(sorted_chars) # unique chars in dataset\n",
    "\n",
    "class BigramModel(nn.Module):\n",
    "    def __init__(self, vocabulary_size):\n",
    "        super().__init__()\n",
    "        self.token_embedding_table = nn.Embedding(vocabulary_size, vocabulary_size)\n",
    "        \n",
    "    def forward(self, idx, targets=None):\n",
    "        logits = self.token_embedding_table(idx) # returns (batch, time, channel) = (batch_size, context_length, vocabulary_size)\n",
    "        \n",
    "        if targets is None:\n",
    "            loss = None\n",
    "        else:        \n",
    "            batch, time, channel = logits.shape\n",
    "            \n",
    "            logits = logits.view(batch * time, channel)\n",
    "            targets = targets.view(batch * time)\n",
    "            \n",
    "            loss = F.cross_entropy(logits, targets)\n",
    "        \n",
    "        return logits, loss\n",
    "    \n",
    "    def generate(self, idx, max_new_tokens):\n",
    "        # idx is (batch_size, context_length) array of indices in the current context\n",
    "        for _ in range(max_new_tokens):\n",
    "            logits, loss = self(idx)\n",
    "            logits = logits[:, -1, :] # becomes (batch_size, channel)\n",
    "\n",
    "            probs = F.softmax(logits, dim=-1) # (batch_size, channel)\n",
    "            \n",
    "            next_idx = torch.multinomial(probs, num_samples=1) # (batch_size, 1)\n",
    "            \n",
    "            idx = torch.cat((idx, next_idx), dim=1) # (batch_size, context_length + 1)\n",
    "        return idx\n",
    "    \n",
    "m = BigramModel(vocabulary_size)\n",
    "\n",
    "model = m.to(device)\n",
    "\n",
    "idx = torch.zeros((1, 1), dtype=torch.long, device=device)\n",
    "\n",
    "generated = model.generate(idx, max_new_tokens=100)[0].tolist()\n",
    "\n",
    "print(decode(generated)) # ~ random generation, model not trained"
   ]
  },
  {
   "cell_type": "markdown",
   "metadata": {},
   "source": [
    "# Bigram model training"
   ]
  },
  {
   "cell_type": "code",
   "execution_count": 21,
   "metadata": {},
   "outputs": [],
   "source": [
    "def train_model(max_iterations=10000, iterations_interval=100, eval_iterations=50, batch_size=32, learning_rate=1e-3, model=model, context_length=8):\n",
    "    train_losses = []\n",
    "    val_losses = []\n",
    "    steps = []\n",
    "\n",
    "    optimizer = torch.optim.Adam(model.parameters(), lr=learning_rate)\n",
    "\n",
    "    for iteration in range(max_iterations):\n",
    "        if iteration % iterations_interval == 0:\n",
    "            losses = estimate_loss(model, eval_iterations, batch_size, context_length)\n",
    "            print(f\"step {iteration}: train loss {losses['train']:.4f}, val loss {losses['val']:.4f}\")\n",
    "            train_losses.append(losses['train'])\n",
    "            val_losses.append(losses['val'])\n",
    "            steps.append(iteration)\n",
    "            \n",
    "        xb, yb = get_batch(\"train\", batch_size, context_length)\n",
    "        \n",
    "        _, loss = model(xb, yb)\n",
    "        optimizer.zero_grad(set_to_none=True)\n",
    "        loss.backward()\n",
    "        optimizer.step()\n",
    "        \n",
    "    return train_losses, val_losses, steps"
   ]
  },
  {
   "cell_type": "code",
   "execution_count": 22,
   "metadata": {},
   "outputs": [
    {
     "name": "stdout",
     "output_type": "stream",
     "text": [
      "step 0: train loss 5.2928, val loss 5.2849\n",
      "step 100: train loss 5.1614, val loss 5.1605\n",
      "step 200: train loss 5.0447, val loss 5.0256\n",
      "step 300: train loss 4.8955, val loss 4.9097\n",
      "step 400: train loss 4.7771, val loss 4.7774\n",
      "step 500: train loss 4.6591, val loss 4.6463\n",
      "step 600: train loss 4.5368, val loss 4.5347\n",
      "step 700: train loss 4.4361, val loss 4.4406\n",
      "step 800: train loss 4.3270, val loss 4.3309\n",
      "step 900: train loss 4.2205, val loss 4.2153\n",
      "step 1000: train loss 4.1282, val loss 4.1286\n",
      "step 1100: train loss 4.0358, val loss 4.0236\n",
      "step 1200: train loss 3.9269, val loss 3.9365\n",
      "step 1300: train loss 3.8644, val loss 3.8410\n",
      "step 1400: train loss 3.7684, val loss 3.7572\n",
      "step 1500: train loss 3.6946, val loss 3.6856\n",
      "step 1600: train loss 3.6094, val loss 3.6166\n",
      "step 1700: train loss 3.5561, val loss 3.5416\n",
      "step 1800: train loss 3.4734, val loss 3.4852\n",
      "step 1900: train loss 3.4245, val loss 3.4029\n",
      "step 2000: train loss 3.3507, val loss 3.3640\n",
      "step 2100: train loss 3.3008, val loss 3.2940\n",
      "step 2200: train loss 3.2480, val loss 3.2389\n",
      "step 2300: train loss 3.1878, val loss 3.1914\n",
      "step 2400: train loss 3.1406, val loss 3.1421\n",
      "step 2500: train loss 3.0947, val loss 3.0822\n",
      "step 2600: train loss 3.0593, val loss 3.0514\n",
      "step 2700: train loss 3.0135, val loss 3.0188\n",
      "step 2800: train loss 2.9679, val loss 2.9881\n",
      "step 2900: train loss 2.9465, val loss 2.9425\n",
      "step 3000: train loss 2.8922, val loss 2.9050\n",
      "step 3100: train loss 2.8797, val loss 2.8976\n",
      "step 3200: train loss 2.8722, val loss 2.8668\n",
      "step 3300: train loss 2.8403, val loss 2.8131\n",
      "step 3400: train loss 2.8144, val loss 2.7886\n",
      "step 3500: train loss 2.7787, val loss 2.7853\n",
      "step 3600: train loss 2.7558, val loss 2.7638\n",
      "step 3700: train loss 2.7216, val loss 2.7242\n",
      "step 3800: train loss 2.7171, val loss 2.6926\n",
      "step 3900: train loss 2.7217, val loss 2.7316\n",
      "step 4000: train loss 2.6851, val loss 2.6780\n",
      "step 4100: train loss 2.6570, val loss 2.6726\n",
      "step 4200: train loss 2.6502, val loss 2.6601\n",
      "step 4300: train loss 2.6488, val loss 2.6422\n",
      "step 4400: train loss 2.6401, val loss 2.6324\n",
      "step 4500: train loss 2.6256, val loss 2.6363\n",
      "step 4600: train loss 2.6165, val loss 2.6194\n",
      "step 4700: train loss 2.6054, val loss 2.6116\n",
      "step 4800: train loss 2.5882, val loss 2.6078\n",
      "step 4900: train loss 2.5673, val loss 2.5753\n",
      "step 5000: train loss 2.5758, val loss 2.5801\n",
      "step 5100: train loss 2.5616, val loss 2.5635\n",
      "step 5200: train loss 2.5541, val loss 2.5586\n",
      "step 5300: train loss 2.5598, val loss 2.5461\n",
      "step 5400: train loss 2.5567, val loss 2.5533\n",
      "step 5500: train loss 2.5451, val loss 2.5476\n",
      "step 5600: train loss 2.5422, val loss 2.5505\n",
      "step 5700: train loss 2.5376, val loss 2.5314\n",
      "step 5800: train loss 2.5125, val loss 2.5286\n",
      "step 5900: train loss 2.5199, val loss 2.5333\n",
      "step 6000: train loss 2.5213, val loss 2.5264\n",
      "step 6100: train loss 2.5177, val loss 2.5103\n",
      "step 6200: train loss 2.5153, val loss 2.5125\n",
      "step 6300: train loss 2.5134, val loss 2.5225\n",
      "step 6400: train loss 2.5128, val loss 2.5027\n",
      "step 6500: train loss 2.5050, val loss 2.5077\n",
      "step 6600: train loss 2.4957, val loss 2.4977\n",
      "step 6700: train loss 2.4907, val loss 2.5204\n",
      "step 6800: train loss 2.5039, val loss 2.5030\n",
      "step 6900: train loss 2.4918, val loss 2.5009\n",
      "step 7000: train loss 2.4955, val loss 2.4787\n",
      "step 7100: train loss 2.4883, val loss 2.4902\n",
      "step 7200: train loss 2.4981, val loss 2.4870\n",
      "step 7300: train loss 2.4870, val loss 2.4962\n",
      "step 7400: train loss 2.4772, val loss 2.4792\n",
      "step 7500: train loss 2.4881, val loss 2.5019\n",
      "step 7600: train loss 2.4786, val loss 2.4948\n",
      "step 7700: train loss 2.4850, val loss 2.4894\n",
      "step 7800: train loss 2.4843, val loss 2.4882\n",
      "step 7900: train loss 2.4756, val loss 2.4830\n",
      "step 8000: train loss 2.4749, val loss 2.4792\n",
      "step 8100: train loss 2.4709, val loss 2.4674\n",
      "step 8200: train loss 2.4890, val loss 2.5042\n",
      "step 8300: train loss 2.4783, val loss 2.4568\n",
      "step 8400: train loss 2.4537, val loss 2.5051\n",
      "step 8500: train loss 2.4787, val loss 2.4767\n",
      "step 8600: train loss 2.4649, val loss 2.4546\n",
      "step 8700: train loss 2.4587, val loss 2.4700\n",
      "step 8800: train loss 2.4583, val loss 2.4563\n",
      "step 8900: train loss 2.4538, val loss 2.4797\n",
      "step 9000: train loss 2.4516, val loss 2.4715\n",
      "step 9100: train loss 2.4587, val loss 2.4639\n",
      "step 9200: train loss 2.4585, val loss 2.4711\n",
      "step 9300: train loss 2.4601, val loss 2.4536\n",
      "step 9400: train loss 2.4610, val loss 2.4693\n",
      "step 9500: train loss 2.4754, val loss 2.4781\n",
      "step 9600: train loss 2.4569, val loss 2.4786\n",
      "step 9700: train loss 2.4688, val loss 2.4602\n",
      "step 9800: train loss 2.4517, val loss 2.4751\n",
      "step 9900: train loss 2.4523, val loss 2.4556\n",
      "step 0: train loss 5.3847, val loss 5.3907\n",
      "step 100: train loss 4.2197, val loss 4.2250\n",
      "step 200: train loss 3.4363, val loss 3.4441\n",
      "step 300: train loss 2.9844, val loss 2.9939\n",
      "step 400: train loss 2.7298, val loss 2.7699\n",
      "step 500: train loss 2.6282, val loss 2.6114\n",
      "step 600: train loss 2.5499, val loss 2.5504\n",
      "step 700: train loss 2.5285, val loss 2.5446\n",
      "step 800: train loss 2.5158, val loss 2.5168\n",
      "step 900: train loss 2.4900, val loss 2.5006\n",
      "step 1000: train loss 2.5050, val loss 2.4759\n",
      "step 1100: train loss 2.4831, val loss 2.4901\n",
      "step 1200: train loss 2.4781, val loss 2.4668\n",
      "step 1300: train loss 2.4718, val loss 2.4682\n",
      "step 1400: train loss 2.4676, val loss 2.4665\n",
      "step 1500: train loss 2.4554, val loss 2.4674\n",
      "step 1600: train loss 2.4600, val loss 2.4634\n",
      "step 1700: train loss 2.4463, val loss 2.4376\n",
      "step 1800: train loss 2.4549, val loss 2.4423\n",
      "step 1900: train loss 2.4423, val loss 2.4472\n",
      "step 2000: train loss 2.4500, val loss 2.4641\n",
      "step 2100: train loss 2.4472, val loss 2.4416\n",
      "step 2200: train loss 2.4636, val loss 2.4677\n",
      "step 2300: train loss 2.4558, val loss 2.4592\n",
      "step 2400: train loss 2.4437, val loss 2.4387\n",
      "step 2500: train loss 2.4327, val loss 2.4413\n",
      "step 2600: train loss 2.4525, val loss 2.4421\n",
      "step 2700: train loss 2.4403, val loss 2.4457\n",
      "step 2800: train loss 2.4426, val loss 2.4453\n",
      "step 2900: train loss 2.4454, val loss 2.4533\n",
      "step 3000: train loss 2.4473, val loss 2.4322\n",
      "step 3100: train loss 2.4251, val loss 2.4538\n",
      "step 3200: train loss 2.4412, val loss 2.4262\n",
      "step 3300: train loss 2.4574, val loss 2.4537\n",
      "step 3400: train loss 2.4401, val loss 2.4453\n",
      "step 3500: train loss 2.4321, val loss 2.4447\n",
      "step 3600: train loss 2.4428, val loss 2.4445\n",
      "step 3700: train loss 2.4451, val loss 2.4623\n",
      "step 3800: train loss 2.4369, val loss 2.4457\n",
      "step 3900: train loss 2.4418, val loss 2.4625\n",
      "step 4000: train loss 2.4402, val loss 2.4475\n",
      "step 4100: train loss 2.4404, val loss 2.4337\n",
      "step 4200: train loss 2.4517, val loss 2.4457\n",
      "step 4300: train loss 2.4340, val loss 2.4381\n",
      "step 4400: train loss 2.4378, val loss 2.4420\n",
      "step 4500: train loss 2.4235, val loss 2.4492\n",
      "step 4600: train loss 2.4286, val loss 2.4427\n",
      "step 4700: train loss 2.4673, val loss 2.4355\n",
      "step 4800: train loss 2.4396, val loss 2.4552\n",
      "step 4900: train loss 2.4449, val loss 2.4423\n",
      "step 5000: train loss 2.4266, val loss 2.4362\n",
      "step 5100: train loss 2.4505, val loss 2.4514\n",
      "step 5200: train loss 2.4201, val loss 2.4423\n",
      "step 5300: train loss 2.4342, val loss 2.4423\n",
      "step 5400: train loss 2.4483, val loss 2.4442\n",
      "step 5500: train loss 2.4296, val loss 2.4361\n",
      "step 5600: train loss 2.4380, val loss 2.4624\n",
      "step 5700: train loss 2.4376, val loss 2.4384\n",
      "step 5800: train loss 2.4322, val loss 2.4458\n",
      "step 5900: train loss 2.4397, val loss 2.4499\n",
      "step 6000: train loss 2.4320, val loss 2.4526\n",
      "step 6100: train loss 2.4332, val loss 2.4500\n",
      "step 6200: train loss 2.4550, val loss 2.4622\n",
      "step 6300: train loss 2.4441, val loss 2.4520\n",
      "step 6400: train loss 2.4482, val loss 2.4505\n",
      "step 6500: train loss 2.4331, val loss 2.4582\n",
      "step 6600: train loss 2.4356, val loss 2.4628\n",
      "step 6700: train loss 2.4378, val loss 2.4490\n",
      "step 6800: train loss 2.4377, val loss 2.4391\n",
      "step 6900: train loss 2.4439, val loss 2.4372\n",
      "step 7000: train loss 2.4575, val loss 2.4341\n",
      "step 7100: train loss 2.4406, val loss 2.4424\n",
      "step 7200: train loss 2.4455, val loss 2.4545\n",
      "step 7300: train loss 2.4310, val loss 2.4467\n",
      "step 7400: train loss 2.4230, val loss 2.4450\n",
      "step 7500: train loss 2.4471, val loss 2.4360\n",
      "step 7600: train loss 2.4397, val loss 2.4354\n",
      "step 7700: train loss 2.4298, val loss 2.4469\n",
      "step 7800: train loss 2.4382, val loss 2.4406\n",
      "step 7900: train loss 2.4421, val loss 2.4519\n",
      "step 8000: train loss 2.4446, val loss 2.4671\n",
      "step 8100: train loss 2.4163, val loss 2.4442\n",
      "step 8200: train loss 2.4369, val loss 2.4630\n",
      "step 8300: train loss 2.4377, val loss 2.4643\n",
      "step 8400: train loss 2.4348, val loss 2.4385\n",
      "step 8500: train loss 2.4361, val loss 2.4373\n",
      "step 8600: train loss 2.4334, val loss 2.4470\n",
      "step 8700: train loss 2.4357, val loss 2.4399\n",
      "step 8800: train loss 2.4187, val loss 2.4357\n",
      "step 8900: train loss 2.4278, val loss 2.4348\n",
      "step 9000: train loss 2.4349, val loss 2.4439\n",
      "step 9100: train loss 2.4428, val loss 2.4596\n",
      "step 9200: train loss 2.4292, val loss 2.4354\n",
      "step 9300: train loss 2.4387, val loss 2.4546\n",
      "step 9400: train loss 2.4403, val loss 2.4606\n",
      "step 9500: train loss 2.4407, val loss 2.4688\n",
      "step 9600: train loss 2.4308, val loss 2.4482\n",
      "step 9700: train loss 2.4253, val loss 2.4498\n",
      "step 9800: train loss 2.4330, val loss 2.4621\n",
      "step 9900: train loss 2.4489, val loss 2.4472\n"
     ]
    },
    {
     "data": {
      "image/png": "[encoded data removed]",
      "text/plain": [
       "<Figure size 1200x600 with 2 Axes>"
      ]
     },
     "metadata": {},
     "output_type": "display_data"
    }
   ],
   "source": [
    "import matplotlib.pyplot as plt\n",
    "\n",
    "train_losses, val_losses, steps = train_model(model=model)\n",
    "\n",
    "fig, (ax1, ax2) = plt.subplots(1, 2, figsize=(12, 6))\n",
    "\n",
    "ax1.plot(steps, train_losses, label=\"Training loss\")\n",
    "ax1.plot(steps, val_losses, label=\"Validation loss\")\n",
    "ax1.set_xlabel(\"Iterations\")\n",
    "ax1.set_ylabel(\"Loss\")\n",
    "ax1.set_title(\"Bigram model training and validation loss (lr = 1e-3)\")\n",
    "ax1.legend()\n",
    "\n",
    "m = BigramModel(vocabulary_size)\n",
    "\n",
    "model = m.to(device)\n",
    "\n",
    "train_losses, val_losses, steps = train_model(learning_rate=1e-2, model=model)\n",
    "\n",
    "ax2.plot(steps, train_losses, label=\"Training loss\")\n",
    "ax2.plot(steps, val_losses, label=\"Validation loss\")\n",
    "ax2.set_xlabel(\"Iterations\")\n",
    "ax2.set_ylabel(\"Loss\")\n",
    "ax2.set_title(\"Bigram model training and validation loss (lr = 1e-2)\")\n",
    "ax2.legend()\n",
    "plt.tight_layout()\n",
    "plt.show()"
   ]
  },
  {
   "cell_type": "code",
   "execution_count": 23,
   "metadata": {},
   "outputs": [
    {
     "name": "stdout",
     "output_type": "stream",
     "text": [
      "\t— прт ияте це Вълаталучеме нканяда на дран о. ние потяно сни в е, и прзпручерат бя опо да датожисеща мевскойкайна сказко; та, спогоги Попрос медай“ ватона Спъм ли бла ръжва ра игоо ра веси ва Ти на о смововакакромочколкра спо — споет кавалури дена се да векогнай к беняше по у га; пока, и а Нол, на р\n"
     ]
    }
   ],
   "source": [
    "idx = torch.zeros((1, 1), dtype=torch.long, device=device)\n",
    "\n",
    "generated = model.generate(idx, max_new_tokens=300)[0].tolist()\n",
    "\n",
    "print(decode(generated))"
   ]
  },
  {
   "cell_type": "markdown",
   "metadata": {},
   "source": [
    "# Self-attention\n",
    "\n",
    "Current tokens should get information only from previous tokens (not future ones)\n",
    "\n",
    "Inefficient way of computing"
   ]
  },
  {
   "cell_type": "code",
   "execution_count": 24,
   "metadata": {},
   "outputs": [
    {
     "data": {
      "text/plain": [
       "torch.Size([4, 8, 2])"
      ]
     },
     "execution_count": 24,
     "metadata": {},
     "output_type": "execute_result"
    }
   ],
   "source": [
    "import torch\n",
    "\n",
    "batch, time, channel = 4, 8, 2\n",
    "x = torch.randn(batch, time, channel)\n",
    "x.shape"
   ]
  },
  {
   "cell_type": "code",
   "execution_count": 25,
   "metadata": {},
   "outputs": [],
   "source": [
    " # x[b, t] = mean_{i <= t} x[b, i]\n",
    " \n",
    "x_bag_of_words = torch.zeros(batch, time, channel)\n",
    "\n",
    "for b in range(batch):\n",
    "    for t in range(time):\n",
    "        x_previous = x[b, :t+1] # (time, channel)\n",
    "        x_bag_of_words[b, t] = torch.mean(x_previous, 0)\n",
    "        \n",
    "# x[0] equals x_bag_of_words[0] but x[1] does not equal x_bag_of_words[1]\n",
    "# because x_bag_of_words[1] is the average of [x0] and x[1]"
   ]
  },
  {
   "cell_type": "code",
   "execution_count": 26,
   "metadata": {},
   "outputs": [
    {
     "data": {
      "text/plain": [
       "tensor([[ 0.2498, -1.6806],\n",
       "        [-0.4789, -0.1754],\n",
       "        [ 0.4035, -1.6914],\n",
       "        [ 1.0354, -0.2637],\n",
       "        [-0.2237,  0.4041],\n",
       "        [ 2.2575,  0.1742],\n",
       "        [ 0.6847, -1.4273],\n",
       "        [ 0.4784, -2.3165]])"
      ]
     },
     "execution_count": 26,
     "metadata": {},
     "output_type": "execute_result"
    }
   ],
   "source": [
    "x[0]"
   ]
  },
  {
   "cell_type": "code",
   "execution_count": 27,
   "metadata": {},
   "outputs": [
    {
     "data": {
      "text/plain": [
       "tensor([[ 0.2498, -1.6806],\n",
       "        [-0.1145, -0.9280],\n",
       "        [ 0.0582, -1.1825],\n",
       "        [ 0.3025, -0.9528],\n",
       "        [ 0.1972, -0.6814],\n",
       "        [ 0.5406, -0.5388],\n",
       "        [ 0.5612, -0.6657],\n",
       "        [ 0.5508, -0.8721]])"
      ]
     },
     "execution_count": 27,
     "metadata": {},
     "output_type": "execute_result"
    }
   ],
   "source": [
    "x_bag_of_words[0]"
   ]
  },
  {
   "cell_type": "markdown",
   "metadata": {},
   "source": [
    "Computing using matrix multiplication (weighted aggregation)"
   ]
  },
  {
   "cell_type": "code",
   "execution_count": 28,
   "metadata": {},
   "outputs": [
    {
     "name": "stdout",
     "output_type": "stream",
     "text": [
      "a=\n",
      "tensor([[1.0000, 0.0000, 0.0000],\n",
      "        [0.5000, 0.5000, 0.0000],\n",
      "        [0.3333, 0.3333, 0.3333]])\n",
      "--\n",
      "b=\n",
      "tensor([[2., 7.],\n",
      "        [6., 4.],\n",
      "        [6., 5.]])\n",
      "--\n",
      "c=\n",
      "tensor([[2.0000, 7.0000],\n",
      "        [4.0000, 5.5000],\n",
      "        [4.6667, 5.3333]])\n"
     ]
    }
   ],
   "source": [
    "torch.manual_seed(42)\n",
    "a = torch.tril(torch.ones(3, 3)) # [[1., 0., 0.], [1., 1., 0.], [1., 1., 1.]]\n",
    "a = a / torch.sum(a, 1, keepdim=True) # dividing by [[1.], [2.], [3.]], a becomes [[1., 0., 0.], [0.5, 0.5, 0.], [0.33, 0.33, 0.33]]\n",
    "b = torch.randint(0,10,(3,2)).float()\n",
    "c = a @ b\n",
    "print('a=')\n",
    "print(a)\n",
    "print('--')\n",
    "print('b=')\n",
    "print(b)\n",
    "print('--')\n",
    "print('c=')\n",
    "print(c)\n",
    "\n",
    "# again each row in C is the average of the previous"
   ]
  },
  {
   "cell_type": "code",
   "execution_count": 29,
   "metadata": {},
   "outputs": [
    {
     "data": {
      "text/plain": [
       "True"
      ]
     },
     "execution_count": 29,
     "metadata": {},
     "output_type": "execute_result"
    }
   ],
   "source": [
    "weighted_aggregation = torch.tril(torch.ones(time, time))\n",
    "weighted_aggregation = weighted_aggregation / weighted_aggregation.sum(1, keepdim=True)\n",
    "\n",
    "x_bag_of_words_wei = weighted_aggregation @ x # (batch, time, time) @ (batch, time, channel) ----> (batch, time, channel)\n",
    "torch.allclose(x_bag_of_words, x_bag_of_words_wei)"
   ]
  },
  {
   "cell_type": "markdown",
   "metadata": {},
   "source": [
    "Computing using softmax (normalization)"
   ]
  },
  {
   "cell_type": "code",
   "execution_count": 30,
   "metadata": {},
   "outputs": [
    {
     "data": {
      "text/plain": [
       "True"
      ]
     },
     "execution_count": 30,
     "metadata": {},
     "output_type": "execute_result"
    }
   ],
   "source": [
    "import torch.nn.functional as F\n",
    "\n",
    "tril = torch.tril(torch.ones(time, time))\n",
    "weighted_aggregation = torch.zeros((time, time))\n",
    "weighted_aggregation = weighted_aggregation.masked_fill(tril == 0, float('-inf')) # make all 0 tril elements = -inf so softmax returns 0 for them (because shouldn't get information from past tokens)\n",
    "weighted_aggregation = F.softmax(weighted_aggregation, dim=-1) # normalization\n",
    "x_bag_of_words_softmax = weighted_aggregation @ x # aggregation\n",
    "torch.allclose(x_bag_of_words, x_bag_of_words_softmax)"
   ]
  },
  {
   "cell_type": "markdown",
   "metadata": {},
   "source": [
    "# Generative pretrained transformer"
   ]
  },
  {
   "cell_type": "markdown",
   "metadata": {},
   "source": []
  },
  {
   "cell_type": "code",
   "execution_count": 31,
   "metadata": {},
   "outputs": [],
   "source": [
    "class Head(nn.Module):\n",
    "    def __init__(self, head_size, n_embeddings, context_length):\n",
    "        super().__init__()\n",
    "        self.key = nn.Linear(n_embeddings, head_size, bias=False)\n",
    "        self.query = nn.Linear(n_embeddings, head_size, bias=False)\n",
    "        self.value = nn.Linear(n_embeddings, head_size, bias=False)\n",
    "        self.register_buffer('tril', torch.tril(torch.ones(context_length, context_length)))\n",
    "    def forward(self, x):\n",
    "        batch_size, context_length, channel = x.shape\n",
    "        k = self.key(x) # (batch_size, context_length, channel)\n",
    "        q = self.query(x) # (batch_size, context_length, channel)\n",
    "        # attention scores (\"affinities\")\n",
    "        weighted_aggregation = q @ k.transpose(-2,-1) * channel**-0.5 # (batch_size, context_length, channel) @ (batch_size, channel, context_length) -> (batch_size, context_length, context_length)\n",
    "        weighted_aggregation = weighted_aggregation.masked_fill(self.tril[:context_length, :context_length] == 0, float('-inf')) # (batch_size, context_length, context_length)\n",
    "        weighted_aggregation = F.softmax(weighted_aggregation, dim=-1) # (batch_size, context_length, context_length)\n",
    "        # weighted aggregation of the values\n",
    "        v = self.value(x) # (batch_size, context_length, channel)\n",
    "        return weighted_aggregation @ v # (batch_size, context_length, context_length) @  (batch_size, context_length, channel) ->  (batch_size, context_length, channel)"
   ]
  },
  {
   "cell_type": "code",
   "execution_count": 32,
   "metadata": {},
   "outputs": [],
   "source": [
    "class MultiHeadAttention(nn.Module):\n",
    "    def __init__(self, num_heads, head_size, n_embeddings, context_length):\n",
    "        super(\n",
    "            ).__init__()\n",
    "        self.heads = nn.ModuleList([Head(head_size, n_embeddings, context_length) for _ in range(num_heads)])\n",
    "        self.projection = nn.Linear(n_embeddings, n_embeddings)\n",
    "\n",
    "    def forward(self, x):\n",
    "        return self.projection(torch.cat([h(x) for h in self.heads], dim=-1))"
   ]
  },
  {
   "cell_type": "code",
   "execution_count": 33,
   "metadata": {},
   "outputs": [],
   "source": [
    "class FeedForward(nn.Module):\n",
    "    def __init__(self, n_embeddings):\n",
    "        super().__init__()\n",
    "        self.network = nn.Sequential(\n",
    "            nn.Linear(n_embeddings, 4 * n_embeddings),\n",
    "            nn.ReLU(),\n",
    "            nn.Linear(4 * n_embeddings, n_embeddings)\n",
    "        )\n",
    "        \n",
    "        \n",
    "    def forward(self, x):\n",
    "        return self.network(x)"
   ]
  },
  {
   "cell_type": "code",
   "execution_count": 34,
   "metadata": {},
   "outputs": [],
   "source": [
    "import torch.nn as nn\n",
    "\n",
    "class Block(nn.Module):\n",
    "    def __init__(self, n_embeddings, n_heads, context_length):\n",
    "        super().__init__()\n",
    "        head_size = n_embeddings // n_heads\n",
    "        self.self_attention = MultiHeadAttention(n_heads, head_size, n_embeddings, context_length)\n",
    "        self.feed_forward = FeedForward(n_embeddings)\n",
    "        self.layer_normalization_self_attention = nn.LayerNorm(n_embeddings)\n",
    "        self.layer_normalization_feed_forward = nn.LayerNorm(n_embeddings)\n",
    "        \n",
    "        \n",
    "    def forward(self, x):\n",
    "        x = x + self.self_attention(self.layer_normalization_self_attention(x))\n",
    "        return x + self.feed_forward(self.layer_normalization_feed_forward(x))"
   ]
  },
  {
   "cell_type": "code",
   "execution_count": 35,
   "metadata": {},
   "outputs": [],
   "source": [
    "import torch.nn.functional as F\n",
    "\n",
    "vocabulary_size = len(sorted_chars) # unique chars in dataset\n",
    "n_embeddings = 32\n",
    "n_heads = 4\n",
    "\n",
    "class GPT(nn.Module):\n",
    "    def __init__(self, vocabulary_size, n_embeddings, n_heads, context_length):\n",
    "        super().__init__()\n",
    "        self.token_embedding_table = nn.Embedding(vocabulary_size, n_embeddings)\n",
    "        self.position_embedding_table = nn.Embedding(context_length, n_embeddings) # positions at which the tokens occur\n",
    "        self.blocks = nn.Sequential(\n",
    "            Block(n_embeddings, n_heads, context_length),\n",
    "            Block(n_embeddings, n_heads, context_length),\n",
    "            Block(n_embeddings, n_heads, context_length)\n",
    "            nn.LayerNorm(n_embeddings),\n",
    "        )\n",
    "        self.lm_head = nn.Linear(n_embeddings, vocabulary_size)\n",
    "        \n",
    "    def forward(self, idx, targets=None):\n",
    "        batch_size, context_length = idx.shape\n",
    "        \n",
    "        token_embedding = self.token_embedding_table(idx) # returns (batch, time, channel) = (batch_size, context_length, vocabulary_size)\n",
    "        position_embedding = self.position_embedding_table(torch.arange(context_length, device=device)) # (context_size, channel)\n",
    "        x = token_embedding + position_embedding # (batch_size, context_length, channel) - information for both tokens' identities and their positions                                                   \n",
    "        x = self.blocks(x)\n",
    "        logits = self.lm_head(x) # (batch, context_length, vocabulary_size)\n",
    "        \n",
    "        if targets is None:\n",
    "            loss = None\n",
    "        else:        \n",
    "            batch, time, channel = logits.shape\n",
    "            \n",
    "            logits = logits.view(batch * time, channel)\n",
    "            targets = targets.view(batch * time)\n",
    "            \n",
    "            loss = F.cross_entropy(logits, targets)\n",
    "        \n",
    "        return logits, loss\n",
    "    \n",
    "    def generate(self, idx, max_new_tokens):\n",
    "        # idx is (batch_size, context_length) array of indices in the current context\n",
    "        for _ in range(max_new_tokens):\n",
    "            idx_cond = idx[:, -context_length:] # crop context\n",
    "            \n",
    "            logits, loss = self(idx_cond)\n",
    "            logits = logits[:, -1, :] # becomes (batch_size, channel)\n",
    "\n",
    "            probs = F.softmax(logits, dim=-1) # (batch_size, channel)\n",
    "            \n",
    "            next_idx = torch.multinomial(probs, num_samples=1) # (batch_size, 1)\n",
    "            \n",
    "            idx = torch.cat((idx, next_idx), dim=1) # (batch_size, context_length + 1)\n",
    "        return idx"
   ]
  },
  {
   "cell_type": "code",
   "execution_count": 36,
   "metadata": {},
   "outputs": [
    {
     "name": "stdout",
     "output_type": "stream",
     "text": [
      "step 0: train loss 5.1699, val loss 5.1639\n",
      "step 100: train loss 2.7511, val loss 2.7406\n",
      "step 200: train loss 2.5990, val loss 2.5622\n",
      "step 300: train loss 2.5267, val loss 2.5380\n",
      "step 400: train loss 2.4794, val loss 2.4328\n",
      "step 500: train loss 2.4126, val loss 2.4149\n",
      "step 600: train loss 2.3907, val loss 2.3799\n",
      "step 700: train loss 2.3269, val loss 2.3534\n",
      "step 800: train loss 2.3440, val loss 2.3256\n",
      "step 900: train loss 2.3115, val loss 2.3219\n",
      "step 1000: train loss 2.2944, val loss 2.3295\n",
      "step 1100: train loss 2.2715, val loss 2.2777\n",
      "step 1200: train loss 2.2696, val loss 2.2714\n",
      "step 1300: train loss 2.2735, val loss 2.2758\n",
      "step 1400: train loss 2.2589, val loss 2.2532\n",
      "step 1500: train loss 2.2383, val loss 2.2373\n",
      "step 1600: train loss 2.2187, val loss 2.2151\n",
      "step 1700: train loss 2.2125, val loss 2.2325\n",
      "step 1800: train loss 2.2081, val loss 2.1996\n",
      "step 1900: train loss 2.2284, val loss 2.2157\n",
      "step 2000: train loss 2.1947, val loss 2.2087\n",
      "step 2100: train loss 2.1621, val loss 2.1804\n",
      "step 2200: train loss 2.1717, val loss 2.1791\n",
      "step 2300: train loss 2.1748, val loss 2.1700\n",
      "step 2400: train loss 2.1685, val loss 2.1602\n",
      "step 2500: train loss 2.1473, val loss 2.1752\n",
      "step 2600: train loss 2.1474, val loss 2.1387\n",
      "step 2700: train loss 2.1437, val loss 2.1361\n",
      "step 2800: train loss 2.1324, val loss 2.1454\n",
      "step 2900: train loss 2.1152, val loss 2.1424\n",
      "step 3000: train loss 2.1079, val loss 2.1412\n",
      "step 3100: train loss 2.1111, val loss 2.1216\n",
      "step 3200: train loss 2.1310, val loss 2.1564\n",
      "step 3300: train loss 2.1156, val loss 2.0988\n",
      "step 3400: train loss 2.1055, val loss 2.0896\n",
      "step 3500: train loss 2.0817, val loss 2.0981\n",
      "step 3600: train loss 2.0919, val loss 2.1026\n",
      "step 3700: train loss 2.0958, val loss 2.1163\n",
      "step 3800: train loss 2.0754, val loss 2.0881\n",
      "step 3900: train loss 2.0856, val loss 2.0998\n",
      "step 4000: train loss 2.0935, val loss 2.1118\n",
      "step 4100: train loss 2.0724, val loss 2.0684\n",
      "step 4200: train loss 2.0932, val loss 2.0622\n",
      "step 4300: train loss 2.0640, val loss 2.1005\n",
      "step 4400: train loss 2.0785, val loss 2.0905\n",
      "step 4500: train loss 2.0617, val loss 2.1003\n",
      "step 4600: train loss 2.0423, val loss 2.0588\n",
      "step 4700: train loss 2.0469, val loss 2.0833\n",
      "step 4800: train loss 2.0399, val loss 2.0725\n",
      "step 4900: train loss 2.0639, val loss 2.0577\n",
      "step 5000: train loss 2.0314, val loss 2.0462\n",
      "step 5100: train loss 2.0231, val loss 2.0630\n",
      "step 5200: train loss 2.0350, val loss 2.0613\n",
      "step 5300: train loss 2.0629, val loss 2.0556\n",
      "step 5400: train loss 2.0407, val loss 2.0501\n",
      "step 5500: train loss 2.0140, val loss 2.0327\n",
      "step 5600: train loss 2.0379, val loss 2.0610\n",
      "step 5700: train loss 1.9979, val loss 2.0233\n",
      "step 5800: train loss 2.0126, val loss 2.0397\n",
      "step 5900: train loss 2.0144, val loss 2.0460\n",
      "step 6000: train loss 2.0095, val loss 2.0212\n",
      "step 6100: train loss 2.0028, val loss 2.0158\n",
      "step 6200: train loss 1.9931, val loss 2.0141\n",
      "step 6300: train loss 2.0132, val loss 2.0691\n",
      "step 6400: train loss 2.0141, val loss 2.0015\n",
      "step 6500: train loss 1.9900, val loss 2.0347\n",
      "step 6600: train loss 2.0167, val loss 2.0235\n",
      "step 6700: train loss 2.0157, val loss 2.0059\n",
      "step 6800: train loss 1.9798, val loss 1.9806\n",
      "step 6900: train loss 2.0046, val loss 2.0128\n",
      "step 7000: train loss 2.0083, val loss 2.0101\n",
      "step 7100: train loss 1.9845, val loss 2.0155\n",
      "step 7200: train loss 1.9661, val loss 1.9770\n",
      "step 7300: train loss 1.9633, val loss 1.9983\n",
      "step 7400: train loss 1.9864, val loss 1.9996\n",
      "step 7500: train loss 1.9707, val loss 1.9872\n",
      "step 7600: train loss 1.9561, val loss 2.0168\n",
      "step 7700: train loss 1.9558, val loss 2.0052\n",
      "step 7800: train loss 1.9777, val loss 2.0123\n",
      "step 7900: train loss 1.9713, val loss 1.9949\n",
      "step 8000: train loss 1.9823, val loss 2.0032\n",
      "step 8100: train loss 1.9879, val loss 1.9933\n",
      "step 8200: train loss 1.9690, val loss 1.9887\n",
      "step 8300: train loss 1.9842, val loss 2.0022\n",
      "step 8400: train loss 1.9628, val loss 1.9858\n",
      "step 8500: train loss 1.9576, val loss 1.9682\n",
      "step 8600: train loss 1.9650, val loss 1.9819\n",
      "step 8700: train loss 1.9394, val loss 1.9727\n",
      "step 8800: train loss 1.9675, val loss 1.9762\n",
      "step 8900: train loss 1.9583, val loss 1.9603\n",
      "step 9000: train loss 1.9312, val loss 1.9935\n",
      "step 9100: train loss 1.9513, val loss 1.9915\n",
      "step 9200: train loss 1.9509, val loss 1.9679\n",
      "step 9300: train loss 1.9535, val loss 1.9674\n",
      "step 9400: train loss 1.9596, val loss 1.9638\n",
      "step 9500: train loss 1.9448, val loss 1.9847\n",
      "step 9600: train loss 1.9531, val loss 1.9536\n",
      "step 9700: train loss 1.9120, val loss 1.9764\n",
      "step 9800: train loss 1.9342, val loss 1.9959\n",
      "step 9900: train loss 1.9575, val loss 1.9648\n"
     ]
    }
   ],
   "source": [
    "m = GPT(vocabulary_size, n_embeddings, n_heads, context_length)\n",
    "\n",
    "model = m.to(device)\n",
    "\n",
    "learning_rate = 1e-3\n",
    "\n",
    "train_losses, val_losses, steps = train_model(model=model, learning_rate=learning_rate)"
   ]
  },
  {
   "cell_type": "code",
   "execution_count": 37,
   "metadata": {},
   "outputs": [
    {
     "data": {
      "image/png": "[encoded data removed]",
      "text/plain": [
       "<Figure size 1000x600 with 1 Axes>"
      ]
     },
     "metadata": {},
     "output_type": "display_data"
    }
   ],
   "source": [
    "plt.figure(figsize=(10, 6))\n",
    "plt.plot(steps, train_losses, label='Training loss', color='blue')\n",
    "plt.plot(steps, val_losses, label='Validation loss', color='orange')\n",
    "plt.title('GPT - training and validation losses')\n",
    "plt.xlabel('Steps')\n",
    "plt.ylabel('Loss')\n",
    "plt.legend()\n",
    "plt.show()"
   ]
  },
  {
   "cell_type": "code",
   "execution_count": 38,
   "metadata": {},
   "outputs": [
    {
     "name": "stdout",
     "output_type": "stream",
     "text": [
      "\tСпомаше празчудно слене ми, която е съдън ще сще ращилите как не бяха щях заобразешем бе е прочневесни Елизавлените от й ще съзнабертво късту истинскилне ми мласите и скресючните мен втряпенат лъцете да на не ме ин предкивотешната обичаше на — в пълваревам беше на мълка, и бил слушата — в чуление.\n",
      "\tМравързахавентя доближа чужнотие в влекван се да вижните ва занивят и думията ми можеличангелката се прикол от ите убили. Адното тавака накуск, треопитвана любурна казглад — дъки; доъпи трябвата тукс,\n"
     ]
    }
   ],
   "source": [
    "context = torch.zeros((1, 1), dtype=torch.long, device=device)\n",
    "print(decode(m.generate(context, max_new_tokens=500)[0].tolist()))"
   ]
  },
  {
   "cell_type": "code",
   "execution_count": null,
   "metadata": {},
   "outputs": [],
   "source": []
  }
 ],
 "metadata": {
  "kernelspec": {
   "display_name": "env",
   "language": "python",
   "name": "python3"
  },
  "language_info": {
   "codemirror_mode": {
    "name": "ipython",
    "version": 3
   },
   "file_extension": ".py",
   "mimetype": "text/x-python",
   "name": "python",
   "nbconvert_exporter": "python",
   "pygments_lexer": "ipython3",
   "version": "3.12.3"
  }
 },
 "nbformat": 4,
 "nbformat_minor": 2
}
