{
 "cells": [
  {
   "cell_type": "markdown",
   "metadata": {},
   "source": [
    "# Dataset"
   ]
  },
  {
   "cell_type": "code",
   "execution_count": 99,
   "metadata": {},
   "outputs": [
    {
     "name": "stdout",
     "output_type": "stream",
     "text": [
      "--2024-09-24 21:52:03--  https://chitanka.info/text/4618-frankenshtajn.txt.zip\n",
      "Resolving chitanka.info (chitanka.info)... 2a06:98c1:3121::2, 2a06:98c1:3120::2, 188.114.96.2, ...\n",
      "Connecting to chitanka.info (chitanka.info)|2a06:98c1:3121::2|:443... connected.\n",
      "HTTP request sent, awaiting response... 302 Found\n",
      "Location: https://m3.chitanka.info/text/4618-frankenshtajn.txt.zip?filename= [following]\n",
      "--2024-09-24 21:52:04--  https://m3.chitanka.info/text/4618-frankenshtajn.txt.zip?filename=\n",
      "Resolving m3.chitanka.info (m3.chitanka.info)... 2a06:98c1:3121::2, 2a06:98c1:3120::2, 188.114.97.2, ...\n",
      "Connecting to m3.chitanka.info (m3.chitanka.info)|2a06:98c1:3121::2|:443... connected.\n",
      "HTTP request sent, awaiting response... 302 Found\n",
      "Location: /cache/dl/Mary-Shelley_-_Frankenshtajn_-_4618.txt.zip [following]\n",
      "--2024-09-24 21:52:04--  https://m3.chitanka.info/cache/dl/Mary-Shelley_-_Frankenshtajn_-_4618.txt.zip\n",
      "Reusing existing connection to [m3.chitanka.info]:443.\n",
      "HTTP request sent, awaiting response... 200 OK\n",
      "Length: 199044 (194K) [application/zip]\n",
      "Saving to: ‘4618-frankenshtajn.txt.zip’\n",
      "\n",
      "4618-frankenshtajn. 100%[===================>] 194.38K  --.-KB/s    in 0.04s   \n",
      "\n",
      "2024-09-24 21:52:05 (4.95 MB/s) - ‘4618-frankenshtajn.txt.zip’ saved [199044/199044]\n",
      "\n"
     ]
    }
   ],
   "source": [
    "import zipfile\n",
    "\n",
    "!wget https://chitanka.info/text/4618-frankenshtajn.txt.zip\n",
    "\n",
    "path = \"4618-frankenshtajn.txt.zip\"\n",
    "\n",
    "with zipfile.ZipFile(path, 'r') as zip_ref:\n",
    "    zip_ref.extractall(\".\")\n",
    "    \n",
    "!mv \"Mary-Shelley -  - . Frankenshtajn - 4618.txt\" \"dataset.txt\"\n",
    "\n",
    "!rm $path\n"
   ]
  },
  {
   "cell_type": "code",
   "execution_count": 100,
   "metadata": {},
   "outputs": [],
   "source": [
    "with open(\"dataset.txt\", \"r\") as f:\n",
    "    text = f.read()"
   ]
  },
  {
   "cell_type": "markdown",
   "metadata": {},
   "source": [
    "# Vocabulary"
   ]
  },
  {
   "cell_type": "code",
   "execution_count": 101,
   "metadata": {},
   "outputs": [
    {
     "data": {
      "text/plain": [
       "'\\t\\n !$()*,-./0123456789:;=?DIMNVX[]_abcdefghijkmnoprstuvx«»АБВГДЕЖЗИКЛМНОПРСТУФХЦЧШЩЮЯабвгдежзийклмнопрстуфхцчшщъьюя–—“„…\\ufeff'"
      ]
     },
     "execution_count": 101,
     "metadata": {},
     "output_type": "execute_result"
    }
   ],
   "source": [
    "unique_chars = set(text)\n",
    "sorted_chars = sorted(unique_chars)\n",
    "sorted_chars\n",
    "\"\".join(sorted_chars)"
   ]
  },
  {
   "cell_type": "markdown",
   "metadata": {},
   "source": [
    "# Tokenizer"
   ]
  },
  {
   "cell_type": "code",
   "execution_count": 102,
   "metadata": {},
   "outputs": [],
   "source": [
    "encoding = { c: i for i, c in enumerate(sorted_chars) }\n",
    "\n",
    "def encode(text: str):\n",
    "    return [encoding[c] for c in text]\n",
    "\n",
    "def test_encode():\n",
    "    test_text = \"франкейщайн!\"\n",
    "    test_encoding = encode(test_text)\n",
    "    assert test_encoding[0] == encoding[test_text[0]]\n",
    "    assert test_encoding[1] == encoding[test_text[1]]\n",
    "    \n",
    "# test_encode()\n",
    "\n",
    "decoding = { i: c for i, c in enumerate(sorted_chars) }\n",
    "\n",
    "test_text = \"франкейщайн!\"\n",
    "test_encoding = encode(test_text)\n",
    "\n",
    "def decode(arr):\n",
    "    return \"\".join([decoding[t] for t in arr])\n",
    "\n",
    "def test_decode():\n",
    "    test_text = \"франкейщайн!\"\n",
    "    assert decode(encode(test_text)) == test_text\n",
    "    \n",
    "# test_decode()"
   ]
  },
  {
   "cell_type": "code",
   "execution_count": 103,
   "metadata": {},
   "outputs": [
    {
     "data": {
      "text/plain": [
       "tensor([120,   0,  69,  ...,  13,   1,   1])"
      ]
     },
     "execution_count": 103,
     "metadata": {},
     "output_type": "execute_result"
    }
   ],
   "source": [
    "import torch\n",
    "\n",
    "data = torch.tensor(encode(text))\n",
    "\n",
    "data"
   ]
  },
  {
   "cell_type": "code",
   "execution_count": 104,
   "metadata": {},
   "outputs": [
    {
     "data": {
      "text/plain": [
       "tensor([120,   0,  69,  ..., 102,  95,  99])"
      ]
     },
     "execution_count": 104,
     "metadata": {},
     "output_type": "execute_result"
    }
   ],
   "source": [
    "train_data_size = round(len(data) * 0.9)\n",
    "\n",
    "train_data = data[:train_data_size]\n",
    "\n",
    "train_data"
   ]
  },
  {
   "cell_type": "code",
   "execution_count": 105,
   "metadata": {},
   "outputs": [
    {
     "data": {
      "text/plain": [
       "tensor([103,  99,   2,  ...,  13,   1,   1])"
      ]
     },
     "execution_count": 105,
     "metadata": {},
     "output_type": "execute_result"
    }
   ],
   "source": [
    "val_data = data[train_data_size:]\n",
    "\n",
    "val_data"
   ]
  },
  {
   "cell_type": "markdown",
   "metadata": {},
   "source": [
    "# Model input and output (output = input[last + 1])"
   ]
  },
  {
   "cell_type": "code",
   "execution_count": 106,
   "metadata": {},
   "outputs": [
    {
     "data": {
      "text/plain": [
       "tensor([120,   0,  69,  90, 101,  93,   2,  81,  90])"
      ]
     },
     "execution_count": 106,
     "metadata": {},
     "output_type": "execute_result"
    }
   ],
   "source": [
    "context_length = 8\n",
    "\n",
    "train_data[:context_length+1]"
   ]
  },
  {
   "cell_type": "code",
   "execution_count": 107,
   "metadata": {},
   "outputs": [
    {
     "data": {
      "text/plain": [
       "tensor([120,   0,  69,  90, 101,  93,   2,  81])"
      ]
     },
     "execution_count": 107,
     "metadata": {},
     "output_type": "execute_result"
    }
   ],
   "source": [
    "model_input = train_data[:context_length]\n",
    "\n",
    "model_input"
   ]
  },
  {
   "cell_type": "code",
   "execution_count": 108,
   "metadata": {},
   "outputs": [
    {
     "data": {
      "text/plain": [
       "'\\ufeff\\tМери Ш'"
      ]
     },
     "execution_count": 108,
     "metadata": {},
     "output_type": "execute_result"
    }
   ],
   "source": [
    "decode(model_input.numpy().tolist())"
   ]
  },
  {
   "cell_type": "code",
   "execution_count": 109,
   "metadata": {},
   "outputs": [
    {
     "data": {
      "text/plain": [
       "tensor(90)"
      ]
     },
     "execution_count": 109,
     "metadata": {},
     "output_type": "execute_result"
    }
   ],
   "source": [
    "model_output = train_data[1:context_length+1]\n",
    "\n",
    "model_output[-1]"
   ]
  },
  {
   "cell_type": "code",
   "execution_count": 110,
   "metadata": {},
   "outputs": [
    {
     "data": {
      "text/plain": [
       "'е'"
      ]
     },
     "execution_count": 110,
     "metadata": {},
     "output_type": "execute_result"
    }
   ],
   "source": [
    "decode(model_output.numpy().tolist())[-1]"
   ]
  },
  {
   "cell_type": "markdown",
   "metadata": {},
   "source": [
    "# Batch"
   ]
  },
  {
   "cell_type": "code",
   "execution_count": 111,
   "metadata": {},
   "outputs": [],
   "source": [
    "device = \"cuda\" if torch.cuda.is_available() else \"cpu\"\n",
    "\n",
    "def get_batch(split: str, batch_size: int, context_length: int):\n",
    "    batch_data = train_data if split == \"train\" else val_data\n",
    "    ix = torch.randint(len(batch_data) - context_length, (batch_size,))\n",
    "\n",
    "    x = torch.stack([batch_data[i:i+context_length] for i in ix])\n",
    "        \n",
    "    y = torch.stack([batch_data[i+1:i+context_length+1] for i in ix])\n",
    "    \n",
    "    x, y = x.to(device), y.to(device)\n",
    "    \n",
    "    return x, y"
   ]
  },
  {
   "cell_type": "markdown",
   "metadata": {},
   "source": [
    "# Log loss"
   ]
  },
  {
   "cell_type": "code",
   "execution_count": 112,
   "metadata": {},
   "outputs": [],
   "source": [
    "@torch.no_grad()\n",
    "def estimate_loss(model, iterations, batch_size, context_length):\n",
    "    estimation = {}\n",
    "    model.eval()\n",
    "    for split in [\"train\", \"val\"]:\n",
    "        losses = torch.zeros(iterations)\n",
    "        for k in range(iterations):\n",
    "            X, Y = get_batch(split, batch_size, context_length)\n",
    "            X, Y = X.to(device), Y.to(device)\n",
    "            _, loss = model(X, Y)\n",
    "            losses[k] = loss.item()\n",
    "        estimation[split] = losses.mean()\n",
    "    model.train()\n",
    "    return estimation"
   ]
  },
  {
   "cell_type": "markdown",
   "metadata": {},
   "source": [
    "# Bigram model"
   ]
  },
  {
   "cell_type": "code",
   "execution_count": 113,
   "metadata": {},
   "outputs": [
    {
     "name": "stdout",
     "output_type": "stream",
     "text": [
      "\tяоЯV6i3“1З\t ОГt2т;“П-КN831„)мУ9мбъIц0?fгuЦ5r\t1cVСзЗРетчЦФньф»Фaшрes)тмpшнeЩXмЩаt_ЧГКМО2Лууc„69тс7„Рn\n"
     ]
    }
   ],
   "source": [
    "import torch.nn as nn\n",
    "import torch.nn.functional as F\n",
    "\n",
    "vocabulary_size = len(sorted_chars) # unique chars in dataset\n",
    "\n",
    "class BigramModel(nn.Module):\n",
    "    def __init__(self, vocabulary_size):\n",
    "        super().__init__()\n",
    "        self.token_embedding_table = nn.Embedding(vocabulary_size, vocabulary_size)\n",
    "        \n",
    "    def forward(self, idx, targets=None):\n",
    "        logits = self.token_embedding_table(idx) # returns (batch, time, channel) = (batch_size, context_length, vocabulary_size)\n",
    "        \n",
    "        if targets is None:\n",
    "            loss = None\n",
    "        else:        \n",
    "            batch, time, channel = logits.shape\n",
    "            \n",
    "            logits = logits.view(batch * time, channel)\n",
    "            targets = targets.view(batch * time)\n",
    "            \n",
    "            loss = F.cross_entropy(logits, targets)\n",
    "        \n",
    "        return logits, loss\n",
    "    \n",
    "    def generate(self, idx, max_new_tokens):\n",
    "        # idx is (batch_size, context_length) array of indices in the current context\n",
    "        for _ in range(max_new_tokens):\n",
    "            logits, loss = self(idx)\n",
    "            logits = logits[:, -1, :] # becomes (batch_size, channel)\n",
    "\n",
    "            probs = F.softmax(logits, dim=-1) # (batch_size, channel)\n",
    "            \n",
    "            next_idx = torch.multinomial(probs, num_samples=1) # (batch_size, 1)\n",
    "            \n",
    "            idx = torch.cat((idx, next_idx), dim=1) # (batch_size, context_length + 1)\n",
    "        return idx\n",
    "    \n",
    "m = BigramModel(vocabulary_size)\n",
    "\n",
    "bigram_model = m.to(device)\n",
    "\n",
    "idx = torch.zeros((1, 1), dtype=torch.long, device=device)\n",
    "\n",
    "generated = bigram_model.generate(idx, max_new_tokens=100)[0].tolist()\n",
    "\n",
    "print(decode(generated)) # ~ random generation, model not trained"
   ]
  },
  {
   "cell_type": "markdown",
   "metadata": {},
   "source": [
    "# Bigram model training"
   ]
  },
  {
   "cell_type": "code",
   "execution_count": 114,
   "metadata": {},
   "outputs": [],
   "source": [
    "vocabulary_size = len(sorted_chars) # unique chars in dataset\n",
    "n_embeddings = 384\n",
    "n_heads = 6\n",
    "n_layers = 6\n",
    "max_iterations = 5000\n",
    "iterations_interval = 100\n",
    "eval_iterations = 200\n",
    "batch_size = 64\n",
    "learning_rate = 1e-4\n",
    "context_length = 256\n",
    "dropout = 0.2\n",
    "\n",
    "def train_model(max_iterations=max_iterations, iterations_interval=iterations_interval, eval_iterations=eval_iterations, batch_size=batch_size, learning_rate=learning_rate, context_length=context_length, model=bigram_model):\n",
    "    train_losses = []\n",
    "    val_losses = []\n",
    "    steps = []\n",
    "\n",
    "    optimizer = torch.optim.Adam(model.parameters(), lr=learning_rate)\n",
    "\n",
    "    for iteration in range(max_iterations):\n",
    "        if iteration % iterations_interval == 0:\n",
    "            losses = estimate_loss(model, eval_iterations, batch_size, context_length)\n",
    "            print(f\"step {iteration}: train loss {losses['train']:.4f}, val loss {losses['val']:.4f}\")\n",
    "            train_losses.append(losses['train'])\n",
    "            val_losses.append(losses['val'])\n",
    "            steps.append(iteration)\n",
    "            \n",
    "        xb, yb = get_batch(\"train\", batch_size, context_length)\n",
    "        \n",
    "        _, loss = model(xb, yb)\n",
    "        optimizer.zero_grad(set_to_none=True)\n",
    "        loss.backward()\n",
    "        optimizer.step()\n",
    "        \n",
    "    return train_losses, val_losses, steps"
   ]
  },
  {
   "cell_type": "code",
   "execution_count": 115,
   "metadata": {},
   "outputs": [
    {
     "name": "stdout",
     "output_type": "stream",
     "text": [
      "step 0: train loss 5.3175, val loss 5.3072\n",
      "step 100: train loss 5.1534, val loss 5.1418\n",
      "step 200: train loss 4.9948, val loss 4.9839\n",
      "step 300: train loss 4.8417, val loss 4.8290\n",
      "step 400: train loss 4.6932, val loss 4.6820\n",
      "step 500: train loss 4.5520, val loss 4.5415\n",
      "step 600: train loss 4.4147, val loss 4.4055\n",
      "step 700: train loss 4.2863, val loss 4.2771\n",
      "step 800: train loss 4.1630, val loss 4.1525\n",
      "step 900: train loss 4.0460, val loss 4.0365\n",
      "step 1000: train loss 3.9360, val loss 3.9277\n",
      "step 1100: train loss 3.8311, val loss 3.8231\n",
      "step 1200: train loss 3.7316, val loss 3.7228\n",
      "step 1300: train loss 3.6398, val loss 3.6295\n",
      "step 1400: train loss 3.5495, val loss 3.5421\n",
      "step 1500: train loss 3.4687, val loss 3.4608\n",
      "step 1600: train loss 3.3911, val loss 3.3835\n",
      "step 1700: train loss 3.3184, val loss 3.3096\n",
      "step 1800: train loss 3.2524, val loss 3.2455\n",
      "step 1900: train loss 3.1862, val loss 3.1812\n",
      "step 2000: train loss 3.1290, val loss 3.1229\n",
      "step 2100: train loss 3.0750, val loss 3.0670\n",
      "step 2200: train loss 3.0230, val loss 3.0180\n",
      "step 2300: train loss 2.9759, val loss 2.9710\n",
      "step 2400: train loss 2.9318, val loss 2.9258\n",
      "step 2500: train loss 2.8927, val loss 2.8858\n",
      "step 2600: train loss 2.8542, val loss 2.8502\n",
      "step 2700: train loss 2.8188, val loss 2.8169\n",
      "step 2800: train loss 2.7882, val loss 2.7843\n",
      "step 2900: train loss 2.7597, val loss 2.7531\n",
      "step 3000: train loss 2.7327, val loss 2.7260\n",
      "step 3100: train loss 2.7068, val loss 2.7030\n",
      "step 3200: train loss 2.6858, val loss 2.6821\n",
      "step 3300: train loss 2.6654, val loss 2.6607\n",
      "step 3400: train loss 2.6471, val loss 2.6435\n",
      "step 3500: train loss 2.6291, val loss 2.6263\n",
      "step 3600: train loss 2.6150, val loss 2.6107\n",
      "step 3700: train loss 2.5992, val loss 2.5963\n",
      "step 3800: train loss 2.5859, val loss 2.5851\n",
      "step 3900: train loss 2.5763, val loss 2.5703\n",
      "step 4000: train loss 2.5643, val loss 2.5617\n",
      "step 4100: train loss 2.5554, val loss 2.5513\n",
      "step 4200: train loss 2.5469, val loss 2.5432\n",
      "step 4300: train loss 2.5370, val loss 2.5361\n",
      "step 4400: train loss 2.5308, val loss 2.5295\n",
      "step 4500: train loss 2.5237, val loss 2.5233\n",
      "step 4600: train loss 2.5188, val loss 2.5144\n",
      "step 4700: train loss 2.5130, val loss 2.5078\n",
      "step 4800: train loss 2.5065, val loss 2.5061\n",
      "step 4900: train loss 2.5022, val loss 2.4988\n",
      "step 5000: train loss 2.4986, val loss 2.4956\n",
      "step 5100: train loss 2.4930, val loss 2.4914\n",
      "step 5200: train loss 2.4906, val loss 2.4874\n",
      "step 5300: train loss 2.4864, val loss 2.4849\n",
      "step 5400: train loss 2.4854, val loss 2.4823\n",
      "step 5500: train loss 2.4814, val loss 2.4796\n",
      "step 5600: train loss 2.4798, val loss 2.4787\n",
      "step 5700: train loss 2.4749, val loss 2.4753\n",
      "step 5800: train loss 2.4754, val loss 2.4728\n",
      "step 5900: train loss 2.4724, val loss 2.4710\n",
      "step 6000: train loss 2.4702, val loss 2.4697\n",
      "step 6100: train loss 2.4695, val loss 2.4686\n",
      "step 6200: train loss 2.4667, val loss 2.4678\n",
      "step 6300: train loss 2.4656, val loss 2.4645\n",
      "step 6400: train loss 2.4645, val loss 2.4641\n",
      "step 6500: train loss 2.4620, val loss 2.4603\n",
      "step 6600: train loss 2.4596, val loss 2.4580\n",
      "step 6700: train loss 2.4594, val loss 2.4583\n",
      "step 6800: train loss 2.4575, val loss 2.4566\n",
      "step 6900: train loss 2.4579, val loss 2.4542\n",
      "step 7000: train loss 2.4557, val loss 2.4582\n",
      "step 7100: train loss 2.4532, val loss 2.4532\n",
      "step 7200: train loss 2.4530, val loss 2.4553\n",
      "step 7300: train loss 2.4532, val loss 2.4502\n",
      "step 7400: train loss 2.4532, val loss 2.4517\n",
      "step 7500: train loss 2.4509, val loss 2.4490\n",
      "step 7600: train loss 2.4496, val loss 2.4484\n",
      "step 7700: train loss 2.4496, val loss 2.4490\n",
      "step 7800: train loss 2.4488, val loss 2.4492\n",
      "step 7900: train loss 2.4480, val loss 2.4486\n",
      "step 8000: train loss 2.4482, val loss 2.4462\n",
      "step 8100: train loss 2.4472, val loss 2.4464\n",
      "step 8200: train loss 2.4463, val loss 2.4476\n",
      "step 8300: train loss 2.4449, val loss 2.4453\n",
      "step 8400: train loss 2.4436, val loss 2.4424\n",
      "step 8500: train loss 2.4452, val loss 2.4430\n",
      "step 8600: train loss 2.4447, val loss 2.4427\n",
      "step 8700: train loss 2.4450, val loss 2.4442\n",
      "step 8800: train loss 2.4421, val loss 2.4415\n",
      "step 8900: train loss 2.4436, val loss 2.4437\n",
      "step 9000: train loss 2.4424, val loss 2.4426\n",
      "step 9100: train loss 2.4413, val loss 2.4434\n",
      "step 9200: train loss 2.4413, val loss 2.4457\n",
      "step 9300: train loss 2.4417, val loss 2.4426\n",
      "step 9400: train loss 2.4405, val loss 2.4415\n",
      "step 9500: train loss 2.4413, val loss 2.4427\n",
      "step 9600: train loss 2.4401, val loss 2.4419\n",
      "step 9700: train loss 2.4390, val loss 2.4383\n",
      "step 9800: train loss 2.4396, val loss 2.4420\n",
      "step 9900: train loss 2.4375, val loss 2.4370\n",
      "step 0: train loss 5.1558, val loss 5.1600\n",
      "step 100: train loss 3.8213, val loss 3.8233\n",
      "step 200: train loss 3.0772, val loss 3.0768\n",
      "step 300: train loss 2.7297, val loss 2.7302\n",
      "step 400: train loss 2.5839, val loss 2.5812\n",
      "step 500: train loss 2.5224, val loss 2.5193\n",
      "step 600: train loss 2.4952, val loss 2.4912\n",
      "step 700: train loss 2.4778, val loss 2.4757\n",
      "step 800: train loss 2.4683, val loss 2.4653\n",
      "step 900: train loss 2.4604, val loss 2.4585\n",
      "step 1000: train loss 2.4548, val loss 2.4560\n",
      "step 1100: train loss 2.4516, val loss 2.4519\n",
      "step 1200: train loss 2.4475, val loss 2.4501\n",
      "step 1300: train loss 2.4473, val loss 2.4499\n",
      "step 1400: train loss 2.4453, val loss 2.4471\n",
      "step 1500: train loss 2.4450, val loss 2.4457\n",
      "step 1600: train loss 2.4423, val loss 2.4448\n",
      "step 1700: train loss 2.4417, val loss 2.4441\n",
      "step 1800: train loss 2.4404, val loss 2.4403\n",
      "step 1900: train loss 2.4398, val loss 2.4377\n",
      "step 2000: train loss 2.4384, val loss 2.4382\n",
      "step 2100: train loss 2.4380, val loss 2.4411\n",
      "step 2200: train loss 2.4375, val loss 2.4422\n",
      "step 2300: train loss 2.4368, val loss 2.4404\n",
      "step 2400: train loss 2.4354, val loss 2.4394\n",
      "step 2500: train loss 2.4368, val loss 2.4433\n",
      "step 2600: train loss 2.4366, val loss 2.4418\n",
      "step 2700: train loss 2.4353, val loss 2.4409\n",
      "step 2800: train loss 2.4349, val loss 2.4412\n",
      "step 2900: train loss 2.4364, val loss 2.4367\n",
      "step 3000: train loss 2.4353, val loss 2.4391\n",
      "step 3100: train loss 2.4347, val loss 2.4379\n",
      "step 3200: train loss 2.4357, val loss 2.4405\n",
      "step 3300: train loss 2.4354, val loss 2.4391\n",
      "step 3400: train loss 2.4356, val loss 2.4400\n",
      "step 3500: train loss 2.4353, val loss 2.4418\n",
      "step 3600: train loss 2.4335, val loss 2.4378\n",
      "step 3700: train loss 2.4332, val loss 2.4367\n",
      "step 3800: train loss 2.4350, val loss 2.4388\n",
      "step 3900: train loss 2.4342, val loss 2.4370\n",
      "step 4000: train loss 2.4345, val loss 2.4386\n",
      "step 4100: train loss 2.4338, val loss 2.4384\n",
      "step 4200: train loss 2.4341, val loss 2.4365\n",
      "step 4300: train loss 2.4340, val loss 2.4382\n",
      "step 4400: train loss 2.4331, val loss 2.4385\n",
      "step 4500: train loss 2.4338, val loss 2.4369\n",
      "step 4600: train loss 2.4325, val loss 2.4389\n",
      "step 4700: train loss 2.4341, val loss 2.4378\n",
      "step 4800: train loss 2.4333, val loss 2.4379\n",
      "step 4900: train loss 2.4322, val loss 2.4450\n",
      "step 5000: train loss 2.4328, val loss 2.4399\n",
      "step 5100: train loss 2.4320, val loss 2.4391\n",
      "step 5200: train loss 2.4322, val loss 2.4393\n",
      "step 5300: train loss 2.4336, val loss 2.4413\n",
      "step 5400: train loss 2.4328, val loss 2.4423\n",
      "step 5500: train loss 2.4327, val loss 2.4380\n",
      "step 5600: train loss 2.4322, val loss 2.4384\n",
      "step 5700: train loss 2.4332, val loss 2.4376\n",
      "step 5800: train loss 2.4329, val loss 2.4361\n",
      "step 5900: train loss 2.4330, val loss 2.4384\n",
      "step 6000: train loss 2.4321, val loss 2.4410\n",
      "step 6100: train loss 2.4321, val loss 2.4424\n",
      "step 6200: train loss 2.4332, val loss 2.4369\n",
      "step 6300: train loss 2.4330, val loss 2.4408\n",
      "step 6400: train loss 2.4323, val loss 2.4412\n",
      "step 6500: train loss 2.4339, val loss 2.4396\n",
      "step 6600: train loss 2.4329, val loss 2.4398\n",
      "step 6700: train loss 2.4317, val loss 2.4365\n",
      "step 6800: train loss 2.4302, val loss 2.4425\n",
      "step 6900: train loss 2.4332, val loss 2.4410\n",
      "step 7000: train loss 2.4319, val loss 2.4392\n",
      "step 7100: train loss 2.4317, val loss 2.4425\n",
      "step 7200: train loss 2.4319, val loss 2.4394\n",
      "step 7300: train loss 2.4318, val loss 2.4360\n",
      "step 7400: train loss 2.4311, val loss 2.4390\n",
      "step 7500: train loss 2.4308, val loss 2.4393\n",
      "step 7600: train loss 2.4319, val loss 2.4382\n",
      "step 7700: train loss 2.4334, val loss 2.4382\n",
      "step 7800: train loss 2.4329, val loss 2.4429\n",
      "step 7900: train loss 2.4330, val loss 2.4395\n",
      "step 8000: train loss 2.4327, val loss 2.4451\n",
      "step 8100: train loss 2.4335, val loss 2.4367\n",
      "step 8200: train loss 2.4338, val loss 2.4425\n",
      "step 8300: train loss 2.4333, val loss 2.4402\n",
      "step 8400: train loss 2.4328, val loss 2.4411\n",
      "step 8500: train loss 2.4314, val loss 2.4379\n",
      "step 8600: train loss 2.4320, val loss 2.4432\n",
      "step 8700: train loss 2.4313, val loss 2.4409\n",
      "step 8800: train loss 2.4318, val loss 2.4435\n",
      "step 8900: train loss 2.4323, val loss 2.4472\n",
      "step 9000: train loss 2.4331, val loss 2.4403\n",
      "step 9100: train loss 2.4301, val loss 2.4411\n",
      "step 9200: train loss 2.4331, val loss 2.4441\n",
      "step 9300: train loss 2.4320, val loss 2.4431\n",
      "step 9400: train loss 2.4312, val loss 2.4395\n",
      "step 9500: train loss 2.4320, val loss 2.4402\n",
      "step 9600: train loss 2.4329, val loss 2.4453\n",
      "step 9700: train loss 2.4318, val loss 2.4380\n",
      "step 9800: train loss 2.4309, val loss 2.4423\n",
      "step 9900: train loss 2.4320, val loss 2.4399\n"
     ]
    },
    {
     "data": {
      "image/png": "[encoded data removed]",
      "text/plain": [
       "<Figure size 1200x600 with 2 Axes>"
      ]
     },
     "metadata": {},
     "output_type": "display_data"
    }
   ],
   "source": [
    "import matplotlib.pyplot as plt\n",
    "\n",
    "train_losses, val_losses, steps = train_model(model=bigram_model, learning_rate=1e-3, batch_size=32, max_iterations=10000)\n",
    "\n",
    "fig, (ax1, ax2) = plt.subplots(1, 2, figsize=(12, 6))\n",
    "\n",
    "ax1.plot(steps, train_losses, label=\"Training loss\")\n",
    "ax1.plot(steps, val_losses, label=\"Validation loss\")\n",
    "ax1.set_xlabel(\"Iterations\")\n",
    "ax1.set_ylabel(\"Loss\")\n",
    "ax1.set_title(\"Bigram model training and validation loss (lr = 1e-3)\")\n",
    "ax1.legend()\n",
    "\n",
    "m = BigramModel(vocabulary_size)\n",
    "\n",
    "bigram_model = m.to(device)\n",
    "\n",
    "train_losses, val_losses, steps = train_model(learning_rate=1e-2, model=bigram_model, batch_size=32, max_iterations=10000)\n",
    "\n",
    "ax2.plot(steps, train_losses, label=\"Training loss\")\n",
    "ax2.plot(steps, val_losses, label=\"Validation loss\")\n",
    "ax2.set_xlabel(\"Iterations\")\n",
    "ax2.set_ylabel(\"Loss\")\n",
    "ax2.set_title(\"Bigram model training and validation loss (lr = 1e-2)\")\n",
    "ax2.legend()\n",
    "plt.tight_layout()\n",
    "plt.show()"
   ]
  },
  {
   "cell_type": "code",
   "execution_count": 116,
   "metadata": {},
   "outputs": [
    {
     "name": "stdout",
     "output_type": "stream",
     "text": [
      "\tГни тниеснеднемо лдре сало тороса пой,\n",
      "\tИзеби игазати та дичкъми оберитижина с осво побратълюци продедерявли ли прапри Канощалми мни. рхарах.\n",
      "\t— знакитеноя плост доз на ми, нията то иера пра о, пито слиста млиздри ме ве ре, пувакт Иматизполода поствичучесъза Б. сл бях таназговакотемя. бро св е уд ка\n"
     ]
    }
   ],
   "source": [
    "idx = torch.zeros((1, 1), dtype=torch.long, device=device)\n",
    "\n",
    "generated = bigram_model.generate(idx, max_new_tokens=300)[0].tolist()\n",
    "\n",
    "print(decode(generated))"
   ]
  },
  {
   "cell_type": "markdown",
   "metadata": {},
   "source": [
    "# Self-attention\n",
    "\n",
    "Current tokens should get information only from previous tokens (not future ones)\n",
    "\n",
    "Inefficient way of computing"
   ]
  },
  {
   "cell_type": "code",
   "execution_count": 117,
   "metadata": {},
   "outputs": [
    {
     "data": {
      "text/plain": [
       "torch.Size([4, 8, 2])"
      ]
     },
     "execution_count": 117,
     "metadata": {},
     "output_type": "execute_result"
    }
   ],
   "source": [
    "import torch\n",
    "\n",
    "batch, time, channel = 4, 8, 2\n",
    "x = torch.randn(batch, time, channel)\n",
    "x.shape"
   ]
  },
  {
   "cell_type": "code",
   "execution_count": 118,
   "metadata": {},
   "outputs": [],
   "source": [
    " # x[b, t] = mean_{i <= t} x[b, i]\n",
    " \n",
    "x_bag_of_words = torch.zeros(batch, time, channel)\n",
    "\n",
    "for b in range(batch):\n",
    "    for t in range(time):\n",
    "        x_previous = x[b, :t+1] # (time, channel)\n",
    "        x_bag_of_words[b, t] = torch.mean(x_previous, 0)\n",
    "        \n",
    "# x[0] equals x_bag_of_words[0] but x[1] does not equal x_bag_of_words[1]\n",
    "# because x_bag_of_words[1] is the average of [x0] and x[1]"
   ]
  },
  {
   "cell_type": "code",
   "execution_count": 119,
   "metadata": {},
   "outputs": [
    {
     "data": {
      "text/plain": [
       "tensor([[-0.3680,  0.6571],\n",
       "        [ 1.5808,  0.2900],\n",
       "        [-0.2151,  2.4736],\n",
       "        [ 0.2295, -0.3849],\n",
       "        [ 0.0560,  0.3504],\n",
       "        [ 0.5029,  0.0656],\n",
       "        [ 0.8499, -1.7485],\n",
       "        [-0.3152,  0.4329]])"
      ]
     },
     "execution_count": 119,
     "metadata": {},
     "output_type": "execute_result"
    }
   ],
   "source": [
    "x[0]"
   ]
  },
  {
   "cell_type": "code",
   "execution_count": 120,
   "metadata": {},
   "outputs": [
    {
     "data": {
      "text/plain": [
       "tensor([[-0.3680,  0.6571],\n",
       "        [ 0.6064,  0.4736],\n",
       "        [ 0.3326,  1.1403],\n",
       "        [ 0.3068,  0.7590],\n",
       "        [ 0.2567,  0.6773],\n",
       "        [ 0.2977,  0.5753],\n",
       "        [ 0.3766,  0.2433],\n",
       "        [ 0.2901,  0.2670]])"
      ]
     },
     "execution_count": 120,
     "metadata": {},
     "output_type": "execute_result"
    }
   ],
   "source": [
    "x_bag_of_words[0]"
   ]
  },
  {
   "cell_type": "markdown",
   "metadata": {},
   "source": [
    "Computing using matrix multiplication (weighted aggregation)"
   ]
  },
  {
   "cell_type": "code",
   "execution_count": 121,
   "metadata": {},
   "outputs": [
    {
     "name": "stdout",
     "output_type": "stream",
     "text": [
      "a=\n",
      "tensor([[1.0000, 0.0000, 0.0000],\n",
      "        [0.5000, 0.5000, 0.0000],\n",
      "        [0.3333, 0.3333, 0.3333]])\n",
      "--\n",
      "b=\n",
      "tensor([[2., 7.],\n",
      "        [6., 4.],\n",
      "        [6., 5.]])\n",
      "--\n",
      "c=\n",
      "tensor([[2.0000, 7.0000],\n",
      "        [4.0000, 5.5000],\n",
      "        [4.6667, 5.3333]])\n"
     ]
    }
   ],
   "source": [
    "torch.manual_seed(42)\n",
    "a = torch.tril(torch.ones(3, 3)) # [[1., 0., 0.], [1., 1., 0.], [1., 1., 1.]]\n",
    "a = a / torch.sum(a, 1, keepdim=True) # dividing by [[1.], [2.], [3.]], a becomes [[1., 0., 0.], [0.5, 0.5, 0.], [0.33, 0.33, 0.33]]\n",
    "b = torch.randint(0,10,(3,2)).float()\n",
    "c = a @ b\n",
    "print('a=')\n",
    "print(a)\n",
    "print('--')\n",
    "print('b=')\n",
    "print(b)\n",
    "print('--')\n",
    "print('c=')\n",
    "print(c)\n",
    "\n",
    "# again each row in C is the average of the previous"
   ]
  },
  {
   "cell_type": "code",
   "execution_count": 122,
   "metadata": {},
   "outputs": [
    {
     "data": {
      "text/plain": [
       "True"
      ]
     },
     "execution_count": 122,
     "metadata": {},
     "output_type": "execute_result"
    }
   ],
   "source": [
    "weighted_aggregation = torch.tril(torch.ones(time, time))\n",
    "weighted_aggregation = weighted_aggregation / weighted_aggregation.sum(1, keepdim=True)\n",
    "\n",
    "x_bag_of_words_wei = weighted_aggregation @ x # (batch, time, time) @ (batch, time, channel) ----> (batch, time, channel)\n",
    "torch.allclose(x_bag_of_words, x_bag_of_words_wei)"
   ]
  },
  {
   "cell_type": "markdown",
   "metadata": {},
   "source": [
    "Computing using softmax (normalization)"
   ]
  },
  {
   "cell_type": "code",
   "execution_count": 123,
   "metadata": {},
   "outputs": [
    {
     "data": {
      "text/plain": [
       "True"
      ]
     },
     "execution_count": 123,
     "metadata": {},
     "output_type": "execute_result"
    }
   ],
   "source": [
    "import torch.nn.functional as F\n",
    "\n",
    "tril = torch.tril(torch.ones(time, time))\n",
    "weighted_aggregation = torch.zeros((time, time))\n",
    "weighted_aggregation = weighted_aggregation.masked_fill(tril == 0, float('-inf')) # make all 0 tril elements = -inf so softmax returns 0 for them (because shouldn't get information from past tokens)\n",
    "weighted_aggregation = F.softmax(weighted_aggregation, dim=-1) # normalization\n",
    "x_bag_of_words_softmax = weighted_aggregation @ x # aggregation\n",
    "torch.allclose(x_bag_of_words, x_bag_of_words_softmax)"
   ]
  },
  {
   "cell_type": "markdown",
   "metadata": {},
   "source": [
    "# Generative pretrained transformer"
   ]
  },
  {
   "cell_type": "code",
   "execution_count": 124,
   "metadata": {},
   "outputs": [],
   "source": [
    "class Head(nn.Module):\n",
    "    def __init__(self, head_size, n_embeddings, context_length, dropout):\n",
    "        super().__init__()\n",
    "        self.key = nn.Linear(n_embeddings, head_size, bias=False)\n",
    "        self.query = nn.Linear(n_embeddings, head_size, bias=False)\n",
    "        self.value = nn.Linear(n_embeddings, head_size, bias=False)\n",
    "        self.register_buffer('tril', torch.tril(torch.ones(context_length, context_length)))\n",
    "        self.dropout = nn.Dropout(dropout)\n",
    "    \n",
    "    def forward(self, x):\n",
    "        batch_size, context_length, channel = x.shape\n",
    "        k = self.key(x) # (batch_size, context_length, channel)\n",
    "        q = self.query(x) # (batch_size, context_length, channel)\n",
    "        # attention scores (\"affinities\")\n",
    "        weighted_aggregation = q @ k.transpose(-2,-1) * channel**-0.5 # (batch_size, context_length, channel) @ (batch_size, channel, context_length) -> (batch_size, context_length, context_length)\n",
    "        weighted_aggregation = weighted_aggregation.masked_fill(self.tril[:context_length, :context_length] == 0, float('-inf')) # (batch_size, context_length, context_length)\n",
    "        weighted_aggregation = F.softmax(weighted_aggregation, dim=-1) # (batch_size, context_length, context_length)\n",
    "        weighted_aggregation = self.dropout(weighted_aggregation)\n",
    "        # weighted aggregation of the values\n",
    "        v = self.value(x) # (batch_size, context_length, channel)\n",
    "        return weighted_aggregation @ v # (batch_size, context_length, context_length) @  (batch_size, context_length, channel) ->  (batch_size, context_length, channel)"
   ]
  },
  {
   "cell_type": "code",
   "execution_count": 125,
   "metadata": {},
   "outputs": [],
   "source": [
    "class MultiHeadAttention(nn.Module):\n",
    "    def __init__(self, num_heads, head_size, n_embeddings, context_length, dropout):\n",
    "        super(\n",
    "            ).__init__()\n",
    "        self.heads = nn.ModuleList([Head(head_size, n_embeddings, context_length, dropout) for _ in range(num_heads)])\n",
    "        self.projection = nn.Linear(n_embeddings, n_embeddings)\n",
    "        self.dropout = nn.Dropout(dropout)\n",
    "\n",
    "    def forward(self, x):\n",
    "        return self.dropout(self.projection(torch.cat([h(x) for h in self.heads], dim=-1)))"
   ]
  },
  {
   "cell_type": "code",
   "execution_count": 126,
   "metadata": {},
   "outputs": [],
   "source": [
    "class FeedForward(nn.Module):\n",
    "    def __init__(self, n_embeddings, dropout):\n",
    "        super().__init__()\n",
    "        self.network = nn.Sequential(\n",
    "            nn.Linear(n_embeddings, 4 * n_embeddings),\n",
    "            nn.ReLU(),\n",
    "            nn.Linear(4 * n_embeddings, n_embeddings),\n",
    "            nn.Dropout(dropout)\n",
    "        )\n",
    "        \n",
    "        \n",
    "    def forward(self, x):\n",
    "        return self.network(x)"
   ]
  },
  {
   "cell_type": "code",
   "execution_count": 127,
   "metadata": {},
   "outputs": [],
   "source": [
    "import torch.nn as nn\n",
    "\n",
    "class Block(nn.Module):\n",
    "    def __init__(self, n_embeddings, n_heads, context_length, dropout):\n",
    "        super().__init__()\n",
    "        head_size = n_embeddings // n_heads\n",
    "        self.self_attention = MultiHeadAttention(n_heads, head_size, n_embeddings, context_length, dropout)\n",
    "        self.feed_forward = FeedForward(n_embeddings, dropout)\n",
    "        self.layer_normalization_self_attention = nn.LayerNorm(n_embeddings)\n",
    "        self.layer_normalization_feed_forward = nn.LayerNorm(n_embeddings)\n",
    "        \n",
    "        \n",
    "    def forward(self, x):\n",
    "        x = x + self.self_attention(self.layer_normalization_self_attention(x))\n",
    "        return x + self.feed_forward(self.layer_normalization_feed_forward(x))"
   ]
  },
  {
   "cell_type": "code",
   "execution_count": 130,
   "metadata": {},
   "outputs": [],
   "source": [
    "import torch.nn.functional as F\n",
    "\n",
    "class GPT(nn.Module):\n",
    "    def __init__(self, vocabulary_size, n_embeddings, n_heads, context_length, n_layers, dropout):\n",
    "        super().__init__()\n",
    "        self.token_embedding_table = nn.Embedding(vocabulary_size, n_embeddings)\n",
    "        self.position_embedding_table = nn.Embedding(context_length, n_embeddings) # positions at which the tokens occur\n",
    "        self.blocks = nn.Sequential(*[Block(n_embeddings, n_heads, context_length, dropout) for _ in range(n_layers)])\n",
    "        self.layer_norm = nn.LayerNorm(n_embeddings)\n",
    "        self.lm_head = nn.Linear(n_embeddings, vocabulary_size)\n",
    "        self.apply(self._init_weights)\n",
    "        \n",
    "    def _init_weights(self, module):\n",
    "        if isinstance(module, nn.Linear):\n",
    "            torch.nn.init.normal_(module.weight, mean=0.0, std=0.02)\n",
    "            if module.bias is not None:\n",
    "                torch.nn.init.zeros_(module.bias)\n",
    "        elif isinstance(module, nn.Embedding):\n",
    "            torch.nn.init.normal_(module.weight, mean=0.0, std=0.02)\n",
    "        \n",
    "    def forward(self, idx, targets=None):\n",
    "        batch_size, context_length = idx.shape\n",
    "        \n",
    "        token_embedding = self.token_embedding_table(idx) # returns (batch, time, channel) = (batch_size, context_length, vocabulary_size)\n",
    "        position_embedding = self.position_embedding_table(torch.arange(context_length, device=device)) # (context_size, channel)\n",
    "        x = token_embedding + position_embedding # (batch_size, context_length, channel) - information for both tokens' identities and their positions                                                   \n",
    "        x = self.blocks(x)\n",
    "        x = self.layer_norm(x)\n",
    "        logits = self.lm_head(x) # (batch, context_length, vocabulary_size)\n",
    "        \n",
    "        if targets is None:\n",
    "            loss = None\n",
    "        else:        \n",
    "            batch, time, channel = logits.shape\n",
    "            \n",
    "            logits = logits.view(batch * time, channel)\n",
    "            targets = targets.view(batch * time)\n",
    "            \n",
    "            loss = F.cross_entropy(logits, targets)\n",
    "        \n",
    "        return logits, loss\n",
    "    \n",
    "    def generate(self, idx, max_new_tokens):\n",
    "        # idx is (batch_size, context_length) array of indices in the current context\n",
    "        for _ in range(max_new_tokens):\n",
    "            idx_cond = idx[:, -context_length:] # crop context\n",
    "            \n",
    "            logits, loss = self(idx_cond)\n",
    "            logits = logits[:, -1, :] # becomes (batch_size, channel)\n",
    "\n",
    "            probs = F.softmax(logits, dim=-1) # (batch_size, channel)\n",
    "            \n",
    "            next_idx = torch.multinomial(probs, num_samples=1) # (batch_size, 1)\n",
    "            \n",
    "            idx = torch.cat((idx, next_idx), dim=1) # (batch_size, context_length + 1)\n",
    "        return idx"
   ]
  },
  {
   "cell_type": "code",
   "execution_count": 133,
   "metadata": {},
   "outputs": [
    {
     "name": "stdout",
     "output_type": "stream",
     "text": [
      "step 0: train loss 4.9466, val loss 4.9448\n",
      "step 100: train loss 2.4695, val loss 2.4678\n",
      "step 200: train loss 2.4223, val loss 2.4205\n",
      "step 300: train loss 2.3757, val loss 2.3729\n",
      "step 400: train loss 2.2951, val loss 2.2898\n",
      "step 500: train loss 2.0606, val loss 2.0622\n",
      "step 600: train loss 1.8170, val loss 1.8362\n",
      "step 700: train loss 1.6322, val loss 1.6815\n",
      "step 800: train loss 1.5142, val loss 1.5954\n",
      "step 900: train loss 1.4155, val loss 1.5259\n",
      "step 1000: train loss 1.3416, val loss 1.4884\n",
      "step 1100: train loss 1.2761, val loss 1.4542\n",
      "step 1200: train loss 1.2189, val loss 1.4385\n",
      "step 1300: train loss 1.1669, val loss 1.4174\n",
      "step 1400: train loss 1.1123, val loss 1.4039\n",
      "step 1500: train loss 1.0702, val loss 1.4170\n",
      "step 1600: train loss 1.0237, val loss 1.4085\n",
      "step 1700: train loss 0.9784, val loss 1.4229\n",
      "step 1800: train loss 0.9297, val loss 1.4280\n",
      "step 1900: train loss 0.8848, val loss 1.4371\n"
     ]
    }
   ],
   "source": [
    "m = GPT(vocabulary_size, n_embeddings, n_heads, context_length, n_layers, dropout)\n",
    "\n",
    "gpt_model = m.to(device)\n",
    "\n",
    "learning_rate = 3e-4\n",
    "\n",
    "train_losses, val_losses, steps = train_model(model=gpt_model, learning_rate=learning_rate, max_iterations=2000)"
   ]
  },
  {
   "cell_type": "code",
   "execution_count": 134,
   "metadata": {},
   "outputs": [
    {
     "data": {
      "image/png": "[encoded data removed]",
      "text/plain": [
       "<Figure size 1000x600 with 1 Axes>"
      ]
     },
     "metadata": {},
     "output_type": "display_data"
    }
   ],
   "source": [
    "plt.figure(figsize=(10, 6))\n",
    "plt.plot(steps, train_losses, label='Training loss', color='blue')\n",
    "plt.plot(steps, val_losses, label='Validation loss', color='orange')\n",
    "plt.title('GPT - training and validation losses')\n",
    "plt.xlabel('Steps')\n",
    "plt.ylabel('Loss')\n",
    "plt.legend()\n",
    "plt.show()"
   ]
  },
  {
   "cell_type": "code",
   "execution_count": 135,
   "metadata": {},
   "outputs": [
    {
     "name": "stdout",
     "output_type": "stream",
     "text": [
      "\tДа пришекоя обеданието на сведените, не съм кълнени, незатсъпилодение около еподростровчетво на всеки нования цвечешки пол градски, съществяваше само ме от погледа. С укритието можеше да разберат си месецът от същото се смери имаение, че когато бяха му освен плесен край на нещата и аз тяхната се отличаше трудно: насле дългия ми прокливи хразвалите имаха мъчите на създадените аз силния преди да дивят ти (когато само отношени да вдъхна така; следца се грижа, разбирам мъка и Елизабет писва молбата \n"
     ]
    }
   ],
   "source": [
    "context = torch.zeros((1, 1), dtype=torch.long, device=device)\n",
    "print(decode(gpt_model.generate(context, max_new_tokens=500)[0].tolist()))"
   ]
  }
 ],
 "metadata": {
  "kernelspec": {
   "display_name": "env",
   "language": "python",
   "name": "python3"
  },
  "language_info": {
   "codemirror_mode": {
    "name": "ipython",
    "version": 3
   },
   "file_extension": ".py",
   "mimetype": "text/x-python",
   "name": "python",
   "nbconvert_exporter": "python",
   "pygments_lexer": "ipython3",
   "version": "3.12.3"
  }
 },
 "nbformat": 4,
 "nbformat_minor": 2
}
