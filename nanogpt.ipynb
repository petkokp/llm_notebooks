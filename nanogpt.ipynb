{
 "cells": [
  {
   "cell_type": "markdown",
   "metadata": {},
   "source": [
    "# Dataset"
   ]
  },
  {
   "cell_type": "code",
   "execution_count": 1,
   "metadata": {},
   "outputs": [
    {
     "name": "stdout",
     "output_type": "stream",
     "text": [
      "--2024-09-23 08:34:13--  https://chitanka.info/text/4618-frankenshtajn.txt.zip\n",
      "Resolving chitanka.info (chitanka.info)... 2a06:98c1:3121::2, 2a06:98c1:3120::2, 188.114.97.2, ...\n",
      "Connecting to chitanka.info (chitanka.info)|2a06:98c1:3121::2|:443... connected.\n",
      "HTTP request sent, awaiting response... 302 Found\n",
      "Location: https://m3.chitanka.info/text/4618-frankenshtajn.txt.zip?filename= [following]\n",
      "--2024-09-23 08:34:13--  https://m3.chitanka.info/text/4618-frankenshtajn.txt.zip?filename=\n",
      "Resolving m3.chitanka.info (m3.chitanka.info)... 2a06:98c1:3121::2, 2a06:98c1:3120::2, 188.114.96.2, ...\n",
      "Connecting to m3.chitanka.info (m3.chitanka.info)|2a06:98c1:3121::2|:443... connected.\n",
      "HTTP request sent, awaiting response... 302 Found\n",
      "Location: /cache/dl/Mary-Shelley_-_Frankenshtajn_-_4618.txt.zip [following]\n",
      "--2024-09-23 08:34:14--  https://m3.chitanka.info/cache/dl/Mary-Shelley_-_Frankenshtajn_-_4618.txt.zip\n",
      "Reusing existing connection to [m3.chitanka.info]:443.\n",
      "HTTP request sent, awaiting response... 200 OK\n",
      "Length: 199044 (194K) [application/zip]\n",
      "Saving to: ‘4618-frankenshtajn.txt.zip’\n",
      "\n",
      "4618-frankenshtajn. 100%[===================>] 194.38K  --.-KB/s    in 0.03s   \n",
      "\n",
      "2024-09-23 08:34:14 (6.69 MB/s) - ‘4618-frankenshtajn.txt.zip’ saved [199044/199044]\n",
      "\n"
     ]
    }
   ],
   "source": [
    "import zipfile\n",
    "\n",
    "!wget https://chitanka.info/text/4618-frankenshtajn.txt.zip\n",
    "\n",
    "path = \"4618-frankenshtajn.txt.zip\"\n",
    "\n",
    "with zipfile.ZipFile(path, 'r') as zip_ref:\n",
    "    zip_ref.extractall(\".\")\n",
    "    \n",
    "!mv \"Mary-Shelley -  - . Frankenshtajn - 4618.txt\" \"dataset.txt\"\n",
    "\n",
    "!rm $path\n"
   ]
  },
  {
   "cell_type": "code",
   "execution_count": 2,
   "metadata": {},
   "outputs": [],
   "source": [
    "with open(\"dataset.txt\", \"r\") as f:\n",
    "    text = f.read()"
   ]
  },
  {
   "cell_type": "markdown",
   "metadata": {},
   "source": [
    "# Vocabulary"
   ]
  },
  {
   "cell_type": "code",
   "execution_count": 3,
   "metadata": {},
   "outputs": [
    {
     "data": {
      "text/plain": [
       "'\\t\\n !$()*,-./0123456789:;=?DIMNVX[]_abcdefghijkmnoprstuvx«»АБВГДЕЖЗИКЛМНОПРСТУФХЦЧШЩЮЯабвгдежзийклмнопрстуфхцчшщъьюя–—“„…\\ufeff'"
      ]
     },
     "execution_count": 3,
     "metadata": {},
     "output_type": "execute_result"
    }
   ],
   "source": [
    "unique_chars = set(text)\n",
    "sorted_chars = sorted(unique_chars)\n",
    "sorted_chars\n",
    "\"\".join(sorted_chars)"
   ]
  },
  {
   "cell_type": "markdown",
   "metadata": {},
   "source": [
    "# Tokenizer"
   ]
  },
  {
   "cell_type": "code",
   "execution_count": 4,
   "metadata": {},
   "outputs": [],
   "source": [
    "encoding = { c: i for i, c in enumerate(sorted_chars) }\n",
    "\n",
    "def encode(text: str):\n",
    "    return [encoding[c] for c in text]\n",
    "\n",
    "def test_encode():\n",
    "    test_text = \"франкейщайн!\"\n",
    "    test_encoding = encode(test_text)\n",
    "    assert test_encoding[0] == encoding[test_text[0]]\n",
    "    assert test_encoding[1] == encoding[test_text[1]]\n",
    "    \n",
    "# test_encode()\n",
    "\n",
    "decoding = { i: c for i, c in enumerate(sorted_chars) }\n",
    "\n",
    "test_text = \"франкейщайн!\"\n",
    "test_encoding = encode(test_text)\n",
    "\n",
    "def decode(arr):\n",
    "    return \"\".join([decoding[t] for t in arr])\n",
    "\n",
    "def test_decode():\n",
    "    test_text = \"франкейщайн!\"\n",
    "    assert decode(encode(test_text)) == test_text\n",
    "    \n",
    "# test_decode()"
   ]
  },
  {
   "cell_type": "code",
   "execution_count": 5,
   "metadata": {},
   "outputs": [
    {
     "data": {
      "text/plain": [
       "tensor([120,   0,  69,  ...,  13,   1,   1])"
      ]
     },
     "execution_count": 5,
     "metadata": {},
     "output_type": "execute_result"
    }
   ],
   "source": [
    "import torch\n",
    "\n",
    "data = torch.tensor(encode(text))\n",
    "\n",
    "data"
   ]
  },
  {
   "cell_type": "code",
   "execution_count": 6,
   "metadata": {},
   "outputs": [
    {
     "data": {
      "text/plain": [
       "tensor([120,   0,  69,  ..., 102,  95,  99])"
      ]
     },
     "execution_count": 6,
     "metadata": {},
     "output_type": "execute_result"
    }
   ],
   "source": [
    "train_data_size = round(len(data) * 0.9)\n",
    "\n",
    "train_data = data[:train_data_size]\n",
    "\n",
    "train_data"
   ]
  },
  {
   "cell_type": "code",
   "execution_count": 7,
   "metadata": {},
   "outputs": [
    {
     "data": {
      "text/plain": [
       "tensor([103,  99,   2,  ...,  13,   1,   1])"
      ]
     },
     "execution_count": 7,
     "metadata": {},
     "output_type": "execute_result"
    }
   ],
   "source": [
    "val_data = data[train_data_size:]\n",
    "\n",
    "val_data"
   ]
  },
  {
   "cell_type": "markdown",
   "metadata": {},
   "source": [
    "# Model input and output (output = input[last + 1])"
   ]
  },
  {
   "cell_type": "code",
   "execution_count": 8,
   "metadata": {},
   "outputs": [
    {
     "data": {
      "text/plain": [
       "tensor([120,   0,  69,  90, 101,  93,   2,  81,  90])"
      ]
     },
     "execution_count": 8,
     "metadata": {},
     "output_type": "execute_result"
    }
   ],
   "source": [
    "context_length = 8\n",
    "\n",
    "train_data[:context_length+1]"
   ]
  },
  {
   "cell_type": "code",
   "execution_count": 9,
   "metadata": {},
   "outputs": [
    {
     "data": {
      "text/plain": [
       "tensor([120,   0,  69,  90, 101,  93,   2,  81])"
      ]
     },
     "execution_count": 9,
     "metadata": {},
     "output_type": "execute_result"
    }
   ],
   "source": [
    "model_input = train_data[:context_length]\n",
    "\n",
    "model_input"
   ]
  },
  {
   "cell_type": "code",
   "execution_count": 10,
   "metadata": {},
   "outputs": [
    {
     "data": {
      "text/plain": [
       "'\\ufeff\\tМери Ш'"
      ]
     },
     "execution_count": 10,
     "metadata": {},
     "output_type": "execute_result"
    }
   ],
   "source": [
    "decode(model_input.numpy().tolist())"
   ]
  },
  {
   "cell_type": "code",
   "execution_count": 11,
   "metadata": {},
   "outputs": [
    {
     "data": {
      "text/plain": [
       "tensor(90)"
      ]
     },
     "execution_count": 11,
     "metadata": {},
     "output_type": "execute_result"
    }
   ],
   "source": [
    "model_output = train_data[1:context_length+1]\n",
    "\n",
    "model_output[-1]"
   ]
  },
  {
   "cell_type": "code",
   "execution_count": 12,
   "metadata": {},
   "outputs": [
    {
     "data": {
      "text/plain": [
       "'е'"
      ]
     },
     "execution_count": 12,
     "metadata": {},
     "output_type": "execute_result"
    }
   ],
   "source": [
    "decode(model_output.numpy().tolist())[-1]"
   ]
  },
  {
   "cell_type": "markdown",
   "metadata": {},
   "source": [
    "# Batch"
   ]
  },
  {
   "cell_type": "code",
   "execution_count": 13,
   "metadata": {},
   "outputs": [],
   "source": [
    "device = \"cuda\" if torch.cuda.is_available() else \"cpu\"\n",
    "\n",
    "def get_batch(split: str, batch_size: int, context_length: int):\n",
    "    batch_data = train_data if split == \"train\" else val_data\n",
    "    ix = torch.randint(len(batch_data) - context_length, (batch_size,))\n",
    "\n",
    "    x = torch.stack([batch_data[i:i+context_length] for i in ix])\n",
    "        \n",
    "    y = torch.stack([batch_data[i+1:i+context_length+1] for i in ix])\n",
    "    \n",
    "    x, y = x.to(device), y.to(device)\n",
    "    \n",
    "    return x, y"
   ]
  },
  {
   "cell_type": "markdown",
   "metadata": {},
   "source": [
    "# Log loss"
   ]
  },
  {
   "cell_type": "code",
   "execution_count": 14,
   "metadata": {},
   "outputs": [],
   "source": [
    "@torch.no_grad()\n",
    "def estimate_loss(model, iterations, batch_size, context_length):\n",
    "    estimation = {}\n",
    "    model.eval()\n",
    "    for split in [\"train\", \"val\"]:\n",
    "        losses = torch.zeros(iterations)\n",
    "        for k in range(iterations):\n",
    "            X, Y = get_batch(split, batch_size, context_length)\n",
    "            X, Y = X.to(device), Y.to(device)\n",
    "            _, loss = model(X, Y)\n",
    "            losses[k] = loss.item()\n",
    "        estimation[split] = losses.mean()\n",
    "    model.train()\n",
    "    return estimation"
   ]
  },
  {
   "cell_type": "markdown",
   "metadata": {},
   "source": [
    "# Bigram model"
   ]
  },
  {
   "cell_type": "code",
   "execution_count": 15,
   "metadata": {},
   "outputs": [
    {
     "name": "stdout",
     "output_type": "stream",
     "text": [
      "\t1УХш?г(„гvоМ*Н*ьf„sbоКАЖт;БтbОцDвbДб(Б8АНЯ3–ФX3—ЛШvя„л(\n",
      "ugъХщXпinЕГЛГ*ъЕВeФ]cn]хгшгюXп[ХУiугvг=_юvЦГ\n"
     ]
    }
   ],
   "source": [
    "import torch.nn as nn\n",
    "import torch.nn.functional as F\n",
    "\n",
    "vocabulary_size = len(sorted_chars) # unique chars in dataset\n",
    "\n",
    "class BigramModel(nn.Module):\n",
    "    def __init__(self, vocabulary_size):\n",
    "        super().__init__()\n",
    "        self.token_embedding_table = nn.Embedding(vocabulary_size, vocabulary_size)\n",
    "        \n",
    "    def forward(self, idx, targets=None):\n",
    "        logits = self.token_embedding_table(idx) # returns (batch, time, channel) = (batch_size, context_length, vocabulary_size)\n",
    "        \n",
    "        if targets is None:\n",
    "            loss = None\n",
    "        else:        \n",
    "            batch, time, channel = logits.shape\n",
    "            \n",
    "            logits = logits.view(batch * time, channel)\n",
    "            targets = targets.view(batch * time)\n",
    "            \n",
    "            loss = F.cross_entropy(logits, targets)\n",
    "        \n",
    "        return logits, loss\n",
    "    \n",
    "    def generate(self, idx, max_new_tokens):\n",
    "        # idx is (batch_size, context_length) array of indices in the current context\n",
    "        for _ in range(max_new_tokens):\n",
    "            logits, loss = self(idx)\n",
    "            logits = logits[:, -1, :] # becomes (batch_size, channel)\n",
    "\n",
    "            probs = F.softmax(logits, dim=-1) # (batch_size, channel)\n",
    "            \n",
    "            next_idx = torch.multinomial(probs, num_samples=1) # (batch_size, 1)\n",
    "            \n",
    "            idx = torch.cat((idx, next_idx), dim=1) # (batch_size, context_length + 1)\n",
    "        return idx\n",
    "    \n",
    "m = BigramModel(vocabulary_size)\n",
    "\n",
    "model = m.to(device)\n",
    "\n",
    "idx = torch.zeros((1, 1), dtype=torch.long, device=device)\n",
    "\n",
    "generated = model.generate(idx, max_new_tokens=100)[0].tolist()\n",
    "\n",
    "print(decode(generated)) # ~ random generation, model not trained"
   ]
  },
  {
   "cell_type": "markdown",
   "metadata": {},
   "source": [
    "# Bigram model training"
   ]
  },
  {
   "cell_type": "code",
   "execution_count": 16,
   "metadata": {},
   "outputs": [],
   "source": [
    "def train_model(max_iterations=10000, iterations_interval=100, eval_iterations=50, batch_size=32, learning_rate=1e-3, model=model, context_length=8):\n",
    "    train_losses = []\n",
    "    val_losses = []\n",
    "    steps = []\n",
    "\n",
    "    optimizer = torch.optim.Adam(model.parameters(), lr=learning_rate)\n",
    "\n",
    "    for iteration in range(max_iterations):\n",
    "        if iteration % iterations_interval == 0:\n",
    "            losses = estimate_loss(model, eval_iterations, batch_size, context_length)\n",
    "            print(f\"step {iteration}: train loss {losses['train']:.4f}, val loss {losses['val']:.4f}\")\n",
    "            train_losses.append(losses['train'])\n",
    "            val_losses.append(losses['val'])\n",
    "            steps.append(iteration)\n",
    "            \n",
    "        xb, yb = get_batch(\"train\", batch_size, context_length)\n",
    "        \n",
    "        _, loss = model(xb, yb)\n",
    "        optimizer.zero_grad(set_to_none=True)\n",
    "        loss.backward()\n",
    "        optimizer.step()\n",
    "        \n",
    "    return train_losses, val_losses, steps"
   ]
  },
  {
   "cell_type": "code",
   "execution_count": 17,
   "metadata": {},
   "outputs": [
    {
     "name": "stdout",
     "output_type": "stream",
     "text": [
      "step 0: train loss 5.1618, val loss 5.1782\n",
      "step 100: train loss 5.0251, val loss 5.0323\n",
      "step 200: train loss 4.9145, val loss 4.9067\n",
      "step 300: train loss 4.7772, val loss 4.7731\n",
      "step 400: train loss 4.6465, val loss 4.6704\n",
      "step 500: train loss 4.5393, val loss 4.5577\n",
      "step 600: train loss 4.4225, val loss 4.4285\n",
      "step 700: train loss 4.3122, val loss 4.3187\n",
      "step 800: train loss 4.2213, val loss 4.2067\n",
      "step 900: train loss 4.0958, val loss 4.0933\n",
      "step 1000: train loss 4.0072, val loss 4.0218\n",
      "step 1100: train loss 3.9274, val loss 3.9322\n",
      "step 1200: train loss 3.8250, val loss 3.8361\n",
      "step 1300: train loss 3.7497, val loss 3.7808\n",
      "step 1400: train loss 3.6783, val loss 3.6732\n",
      "step 1500: train loss 3.6074, val loss 3.5779\n",
      "step 1600: train loss 3.5302, val loss 3.5160\n",
      "step 1700: train loss 3.4573, val loss 3.4641\n",
      "step 1800: train loss 3.3991, val loss 3.4005\n",
      "step 1900: train loss 3.3501, val loss 3.3334\n",
      "step 2000: train loss 3.2790, val loss 3.2791\n",
      "step 2100: train loss 3.2228, val loss 3.2218\n",
      "step 2200: train loss 3.1796, val loss 3.1847\n",
      "step 2300: train loss 3.1302, val loss 3.1387\n",
      "step 2400: train loss 3.0758, val loss 3.0851\n",
      "step 2500: train loss 3.0532, val loss 3.0621\n",
      "step 2600: train loss 3.0205, val loss 3.0155\n",
      "step 2700: train loss 2.9720, val loss 2.9767\n",
      "step 2800: train loss 2.9510, val loss 2.9418\n",
      "step 2900: train loss 2.8852, val loss 2.9089\n",
      "step 3000: train loss 2.8801, val loss 2.8822\n",
      "step 3100: train loss 2.8630, val loss 2.8545\n",
      "step 3200: train loss 2.8400, val loss 2.8311\n",
      "step 3300: train loss 2.8148, val loss 2.8081\n",
      "step 3400: train loss 2.7862, val loss 2.7869\n",
      "step 3500: train loss 2.7566, val loss 2.7439\n",
      "step 3600: train loss 2.7484, val loss 2.7447\n",
      "step 3700: train loss 2.7220, val loss 2.7088\n",
      "step 3800: train loss 2.7117, val loss 2.7144\n",
      "step 3900: train loss 2.6733, val loss 2.7073\n",
      "step 4000: train loss 2.6747, val loss 2.6679\n",
      "step 4100: train loss 2.6670, val loss 2.6584\n",
      "step 4200: train loss 2.6545, val loss 2.6502\n",
      "step 4300: train loss 2.6223, val loss 2.6482\n",
      "step 4400: train loss 2.6163, val loss 2.6316\n",
      "step 4500: train loss 2.6085, val loss 2.6052\n",
      "step 4600: train loss 2.6031, val loss 2.6141\n",
      "step 4700: train loss 2.5867, val loss 2.5954\n",
      "step 4800: train loss 2.5979, val loss 2.5873\n",
      "step 4900: train loss 2.5962, val loss 2.5755\n",
      "step 5000: train loss 2.5782, val loss 2.5771\n",
      "step 5100: train loss 2.5720, val loss 2.5458\n",
      "step 5200: train loss 2.5605, val loss 2.5647\n",
      "step 5300: train loss 2.5700, val loss 2.5482\n",
      "step 5400: train loss 2.5612, val loss 2.5678\n",
      "step 5500: train loss 2.5510, val loss 2.5443\n",
      "step 5600: train loss 2.5358, val loss 2.5510\n",
      "step 5700: train loss 2.5461, val loss 2.5349\n",
      "step 5800: train loss 2.5276, val loss 2.5286\n",
      "step 5900: train loss 2.5204, val loss 2.5210\n",
      "step 6000: train loss 2.5231, val loss 2.5131\n",
      "step 6100: train loss 2.5239, val loss 2.5395\n",
      "step 6200: train loss 2.5014, val loss 2.5077\n",
      "step 6300: train loss 2.5211, val loss 2.5113\n",
      "step 6400: train loss 2.5402, val loss 2.4994\n",
      "step 6500: train loss 2.5016, val loss 2.5181\n",
      "step 6600: train loss 2.5104, val loss 2.5038\n",
      "step 6700: train loss 2.5115, val loss 2.5198\n",
      "step 6800: train loss 2.4872, val loss 2.4868\n",
      "step 6900: train loss 2.5105, val loss 2.4949\n",
      "step 7000: train loss 2.5007, val loss 2.4865\n",
      "step 7100: train loss 2.4998, val loss 2.4814\n",
      "step 7200: train loss 2.5058, val loss 2.4891\n",
      "step 7300: train loss 2.4849, val loss 2.4899\n",
      "step 7400: train loss 2.4954, val loss 2.4958\n",
      "step 7500: train loss 2.4673, val loss 2.4940\n",
      "step 7600: train loss 2.4957, val loss 2.4846\n",
      "step 7700: train loss 2.4825, val loss 2.4807\n",
      "step 7800: train loss 2.4770, val loss 2.4767\n",
      "step 7900: train loss 2.4927, val loss 2.4784\n",
      "step 8000: train loss 2.4862, val loss 2.4851\n",
      "step 8100: train loss 2.4738, val loss 2.4803\n",
      "step 8200: train loss 2.4649, val loss 2.4845\n",
      "step 8300: train loss 2.4812, val loss 2.4688\n",
      "step 8400: train loss 2.4698, val loss 2.4912\n",
      "step 8500: train loss 2.4783, val loss 2.4659\n",
      "step 8600: train loss 2.4645, val loss 2.4684\n",
      "step 8700: train loss 2.4713, val loss 2.4528\n",
      "step 8800: train loss 2.4704, val loss 2.4507\n",
      "step 8900: train loss 2.4577, val loss 2.4694\n",
      "step 9000: train loss 2.4824, val loss 2.4601\n",
      "step 9100: train loss 2.4696, val loss 2.4757\n",
      "step 9200: train loss 2.4522, val loss 2.4567\n",
      "step 9300: train loss 2.4509, val loss 2.4676\n",
      "step 9400: train loss 2.4595, val loss 2.4448\n",
      "step 9500: train loss 2.4612, val loss 2.4529\n",
      "step 9600: train loss 2.4732, val loss 2.4829\n",
      "step 9700: train loss 2.4525, val loss 2.4567\n",
      "step 9800: train loss 2.4507, val loss 2.4418\n",
      "step 9900: train loss 2.4465, val loss 2.4567\n",
      "step 0: train loss 5.4469, val loss 5.4523\n",
      "step 100: train loss 4.2451, val loss 4.2278\n",
      "step 200: train loss 3.4407, val loss 3.4464\n",
      "step 300: train loss 2.9957, val loss 2.9988\n",
      "step 400: train loss 2.7541, val loss 2.7450\n",
      "step 500: train loss 2.6312, val loss 2.6190\n",
      "step 600: train loss 2.5572, val loss 2.5542\n",
      "step 700: train loss 2.5225, val loss 2.5278\n",
      "step 800: train loss 2.5018, val loss 2.5133\n",
      "step 900: train loss 2.5077, val loss 2.4854\n",
      "step 1000: train loss 2.4817, val loss 2.4895\n",
      "step 1100: train loss 2.4802, val loss 2.4868\n",
      "step 1200: train loss 2.4655, val loss 2.4843\n",
      "step 1300: train loss 2.4704, val loss 2.4661\n",
      "step 1400: train loss 2.4677, val loss 2.4663\n",
      "step 1500: train loss 2.4722, val loss 2.4782\n",
      "step 1600: train loss 2.4458, val loss 2.4646\n",
      "step 1700: train loss 2.4470, val loss 2.4451\n",
      "step 1800: train loss 2.4568, val loss 2.4673\n",
      "step 1900: train loss 2.4695, val loss 2.4608\n",
      "step 2000: train loss 2.4497, val loss 2.4556\n",
      "step 2100: train loss 2.4579, val loss 2.4640\n",
      "step 2200: train loss 2.4548, val loss 2.4579\n",
      "step 2300: train loss 2.4521, val loss 2.4328\n",
      "step 2400: train loss 2.4556, val loss 2.4521\n",
      "step 2500: train loss 2.4543, val loss 2.4377\n",
      "step 2600: train loss 2.4626, val loss 2.4486\n",
      "step 2700: train loss 2.4379, val loss 2.4578\n",
      "step 2800: train loss 2.4483, val loss 2.4602\n",
      "step 2900: train loss 2.4464, val loss 2.4408\n",
      "step 3000: train loss 2.4464, val loss 2.4595\n",
      "step 3100: train loss 2.4254, val loss 2.4398\n",
      "step 3200: train loss 2.4486, val loss 2.4635\n",
      "step 3300: train loss 2.4578, val loss 2.4534\n",
      "step 3400: train loss 2.4347, val loss 2.4493\n",
      "step 3500: train loss 2.4569, val loss 2.4441\n",
      "step 3600: train loss 2.4420, val loss 2.4521\n",
      "step 3700: train loss 2.4433, val loss 2.4244\n",
      "step 3800: train loss 2.4290, val loss 2.4398\n",
      "step 3900: train loss 2.4659, val loss 2.4334\n",
      "step 4000: train loss 2.4541, val loss 2.4568\n",
      "step 4100: train loss 2.4457, val loss 2.4534\n",
      "step 4200: train loss 2.4369, val loss 2.4349\n",
      "step 4300: train loss 2.4285, val loss 2.4516\n",
      "step 4400: train loss 2.4373, val loss 2.4352\n",
      "step 4500: train loss 2.4422, val loss 2.4405\n",
      "step 4600: train loss 2.4211, val loss 2.4586\n",
      "step 4700: train loss 2.4556, val loss 2.4247\n",
      "step 4800: train loss 2.4351, val loss 2.4491\n",
      "step 4900: train loss 2.4429, val loss 2.4454\n",
      "step 5000: train loss 2.4336, val loss 2.4560\n",
      "step 5100: train loss 2.4458, val loss 2.4291\n",
      "step 5200: train loss 2.4534, val loss 2.4407\n",
      "step 5300: train loss 2.4322, val loss 2.4349\n",
      "step 5400: train loss 2.4345, val loss 2.4527\n",
      "step 5500: train loss 2.4310, val loss 2.4626\n",
      "step 5600: train loss 2.4383, val loss 2.4434\n",
      "step 5700: train loss 2.4441, val loss 2.4214\n",
      "step 5800: train loss 2.4377, val loss 2.4335\n",
      "step 5900: train loss 2.4412, val loss 2.4343\n",
      "step 6000: train loss 2.4304, val loss 2.4546\n",
      "step 6100: train loss 2.4259, val loss 2.4344\n",
      "step 6200: train loss 2.4359, val loss 2.4374\n",
      "step 6300: train loss 2.4322, val loss 2.4620\n",
      "step 6400: train loss 2.4516, val loss 2.4470\n",
      "step 6500: train loss 2.4394, val loss 2.4431\n",
      "step 6600: train loss 2.4250, val loss 2.4478\n",
      "step 6700: train loss 2.4153, val loss 2.4611\n",
      "step 6800: train loss 2.4529, val loss 2.4558\n",
      "step 6900: train loss 2.4251, val loss 2.4415\n",
      "step 7000: train loss 2.4295, val loss 2.4478\n",
      "step 7100: train loss 2.4169, val loss 2.4308\n",
      "step 7200: train loss 2.4262, val loss 2.4378\n",
      "step 7300: train loss 2.4372, val loss 2.4257\n",
      "step 7400: train loss 2.4367, val loss 2.4493\n",
      "step 7500: train loss 2.4402, val loss 2.4361\n",
      "step 7600: train loss 2.4369, val loss 2.4445\n",
      "step 7700: train loss 2.4472, val loss 2.4386\n",
      "step 7800: train loss 2.4284, val loss 2.4319\n",
      "step 7900: train loss 2.4181, val loss 2.4350\n",
      "step 8000: train loss 2.4277, val loss 2.4725\n",
      "step 8100: train loss 2.4238, val loss 2.4525\n",
      "step 8200: train loss 2.4295, val loss 2.4378\n",
      "step 8300: train loss 2.4267, val loss 2.4415\n",
      "step 8400: train loss 2.4466, val loss 2.4455\n",
      "step 8500: train loss 2.4316, val loss 2.4480\n",
      "step 8600: train loss 2.4470, val loss 2.4462\n",
      "step 8700: train loss 2.4362, val loss 2.4481\n",
      "step 8800: train loss 2.4341, val loss 2.4623\n",
      "step 8900: train loss 2.4388, val loss 2.4294\n",
      "step 9000: train loss 2.4482, val loss 2.4401\n",
      "step 9100: train loss 2.4313, val loss 2.4548\n",
      "step 9200: train loss 2.4467, val loss 2.4629\n",
      "step 9300: train loss 2.4458, val loss 2.4359\n",
      "step 9400: train loss 2.4288, val loss 2.4477\n",
      "step 9500: train loss 2.4331, val loss 2.4255\n",
      "step 9600: train loss 2.4332, val loss 2.4246\n",
      "step 9700: train loss 2.4352, val loss 2.4567\n",
      "step 9800: train loss 2.4411, val loss 2.4392\n",
      "step 9900: train loss 2.4210, val loss 2.4471\n"
     ]
    },
    {
     "data": {
      "image/png": "[encoded data removed]",
      "text/plain": [
       "<Figure size 1200x600 with 2 Axes>"
      ]
     },
     "metadata": {},
     "output_type": "display_data"
    }
   ],
   "source": [
    "import matplotlib.pyplot as plt\n",
    "\n",
    "train_losses, val_losses, steps = train_model(model=model)\n",
    "\n",
    "fig, (ax1, ax2) = plt.subplots(1, 2, figsize=(12, 6))\n",
    "\n",
    "ax1.plot(steps, train_losses, label=\"Training loss\")\n",
    "ax1.plot(steps, val_losses, label=\"Validation loss\")\n",
    "ax1.set_xlabel(\"Iterations\")\n",
    "ax1.set_ylabel(\"Loss\")\n",
    "ax1.set_title(\"Bigram model training and validation loss (lr = 1e-3)\")\n",
    "ax1.legend()\n",
    "\n",
    "m = BigramModel(vocabulary_size)\n",
    "\n",
    "model = m.to(device)\n",
    "\n",
    "train_losses, val_losses, steps = train_model(learning_rate=1e-2, model=model)\n",
    "\n",
    "ax2.plot(steps, train_losses, label=\"Training loss\")\n",
    "ax2.plot(steps, val_losses, label=\"Validation loss\")\n",
    "ax2.set_xlabel(\"Iterations\")\n",
    "ax2.set_ylabel(\"Loss\")\n",
    "ax2.set_title(\"Bigram model training and validation loss (lr = 1e-2)\")\n",
    "ax2.legend()\n",
    "plt.tight_layout()\n",
    "plt.show()"
   ]
  },
  {
   "cell_type": "code",
   "execution_count": 18,
   "metadata": {},
   "outputs": [
    {
     "name": "stdout",
     "output_type": "stream",
     "text": [
      "\tА с нисправемлкобеста бей плесе е бе ичо Вари одеубяка т. тнавозоясие ито-съва мробли ки, бе спода. весънох Ка рпкъла въота _, Кой увасе къва, иетващома чиях ня ода оводиза вс мешанерезатетнатичичи на стеливазачеси звънежи врк съга обашуста, нате потока седн? по мнотизаръри скохалели вли осн д е бя \n"
     ]
    }
   ],
   "source": [
    "idx = torch.zeros((1, 1), dtype=torch.long, device=device)\n",
    "\n",
    "generated = model.generate(idx, max_new_tokens=300)[0].tolist()\n",
    "\n",
    "print(decode(generated))"
   ]
  },
  {
   "cell_type": "markdown",
   "metadata": {},
   "source": [
    "# Self-attention\n",
    "\n",
    "Current tokens should get information only from previous tokens (not future ones)\n",
    "\n",
    "Inefficient way of computing"
   ]
  },
  {
   "cell_type": "code",
   "execution_count": 19,
   "metadata": {},
   "outputs": [
    {
     "data": {
      "text/plain": [
       "torch.Size([4, 8, 2])"
      ]
     },
     "execution_count": 19,
     "metadata": {},
     "output_type": "execute_result"
    }
   ],
   "source": [
    "import torch\n",
    "\n",
    "batch, time, channel = 4, 8, 2\n",
    "x = torch.randn(batch, time, channel)\n",
    "x.shape"
   ]
  },
  {
   "cell_type": "code",
   "execution_count": 20,
   "metadata": {},
   "outputs": [],
   "source": [
    " # x[b, t] = mean_{i <= t} x[b, i]\n",
    " \n",
    "x_bag_of_words = torch.zeros(batch, time, channel)\n",
    "\n",
    "for b in range(batch):\n",
    "    for t in range(time):\n",
    "        x_previous = x[b, :t+1] # (time, channel)\n",
    "        x_bag_of_words[b, t] = torch.mean(x_previous, 0)\n",
    "        \n",
    "# x[0] equals x_bag_of_words[0] but x[1] does not equal x_bag_of_words[1]\n",
    "# because x_bag_of_words[1] is the average of [x0] and x[1]"
   ]
  },
  {
   "cell_type": "code",
   "execution_count": 21,
   "metadata": {},
   "outputs": [
    {
     "data": {
      "text/plain": [
       "tensor([[-0.9796,  2.5210],\n",
       "        [ 0.2241,  1.0760],\n",
       "        [ 0.8168,  1.5393],\n",
       "        [ 0.8766, -0.7037],\n",
       "        [ 0.1434,  0.6903],\n",
       "        [-0.2933,  0.3635],\n",
       "        [-0.7517, -1.9126],\n",
       "        [ 0.0594, -0.5796]])"
      ]
     },
     "execution_count": 21,
     "metadata": {},
     "output_type": "execute_result"
    }
   ],
   "source": [
    "x[0]"
   ]
  },
  {
   "cell_type": "code",
   "execution_count": 22,
   "metadata": {},
   "outputs": [
    {
     "data": {
      "text/plain": [
       "tensor([[-0.9796,  2.5210],\n",
       "        [-0.3777,  1.7985],\n",
       "        [ 0.0204,  1.7121],\n",
       "        [ 0.2345,  1.1081],\n",
       "        [ 0.2163,  1.0246],\n",
       "        [ 0.1313,  0.9144],\n",
       "        [ 0.0052,  0.5105],\n",
       "        [ 0.0120,  0.3743]])"
      ]
     },
     "execution_count": 22,
     "metadata": {},
     "output_type": "execute_result"
    }
   ],
   "source": [
    "x_bag_of_words[0]"
   ]
  },
  {
   "cell_type": "markdown",
   "metadata": {},
   "source": [
    "Computing using matrix multiplication (weighted aggregation)"
   ]
  },
  {
   "cell_type": "code",
   "execution_count": 23,
   "metadata": {},
   "outputs": [
    {
     "name": "stdout",
     "output_type": "stream",
     "text": [
      "a=\n",
      "tensor([[1.0000, 0.0000, 0.0000],\n",
      "        [0.5000, 0.5000, 0.0000],\n",
      "        [0.3333, 0.3333, 0.3333]])\n",
      "--\n",
      "b=\n",
      "tensor([[2., 7.],\n",
      "        [6., 4.],\n",
      "        [6., 5.]])\n",
      "--\n",
      "c=\n",
      "tensor([[2.0000, 7.0000],\n",
      "        [4.0000, 5.5000],\n",
      "        [4.6667, 5.3333]])\n"
     ]
    }
   ],
   "source": [
    "torch.manual_seed(42)\n",
    "a = torch.tril(torch.ones(3, 3)) # [[1., 0., 0.], [1., 1., 0.], [1., 1., 1.]]\n",
    "a = a / torch.sum(a, 1, keepdim=True) # dividing by [[1.], [2.], [3.]], a becomes [[1., 0., 0.], [0.5, 0.5, 0.], [0.33, 0.33, 0.33]]\n",
    "b = torch.randint(0,10,(3,2)).float()\n",
    "c = a @ b\n",
    "print('a=')\n",
    "print(a)\n",
    "print('--')\n",
    "print('b=')\n",
    "print(b)\n",
    "print('--')\n",
    "print('c=')\n",
    "print(c)\n",
    "\n",
    "# again each row in C is the average of the previous"
   ]
  },
  {
   "cell_type": "code",
   "execution_count": 24,
   "metadata": {},
   "outputs": [
    {
     "data": {
      "text/plain": [
       "True"
      ]
     },
     "execution_count": 24,
     "metadata": {},
     "output_type": "execute_result"
    }
   ],
   "source": [
    "weighted_aggregation = torch.tril(torch.ones(time, time))\n",
    "weighted_aggregation = weighted_aggregation / weighted_aggregation.sum(1, keepdim=True)\n",
    "\n",
    "x_bag_of_words_wei = weighted_aggregation @ x # (batch, time, time) @ (batch, time, channel) ----> (batch, time, channel)\n",
    "torch.allclose(x_bag_of_words, x_bag_of_words_wei)"
   ]
  },
  {
   "cell_type": "markdown",
   "metadata": {},
   "source": [
    "Computing using softmax (normalization)"
   ]
  },
  {
   "cell_type": "code",
   "execution_count": 25,
   "metadata": {},
   "outputs": [
    {
     "data": {
      "text/plain": [
       "True"
      ]
     },
     "execution_count": 25,
     "metadata": {},
     "output_type": "execute_result"
    }
   ],
   "source": [
    "import torch.nn.functional as F\n",
    "\n",
    "tril = torch.tril(torch.ones(time, time))\n",
    "weighted_aggregation = torch.zeros((time, time))\n",
    "weighted_aggregation = weighted_aggregation.masked_fill(tril == 0, float('-inf')) # make all 0 tril elements = -inf so softmax returns 0 for them (because shouldn't get information from past tokens)\n",
    "weighted_aggregation = F.softmax(weighted_aggregation, dim=-1) # normalization\n",
    "x_bag_of_words_softmax = weighted_aggregation @ x # aggregation\n",
    "torch.allclose(x_bag_of_words, x_bag_of_words_softmax)"
   ]
  },
  {
   "cell_type": "markdown",
   "metadata": {},
   "source": [
    "# Generative pretrained transformer"
   ]
  },
  {
   "cell_type": "markdown",
   "metadata": {},
   "source": []
  },
  {
   "cell_type": "code",
   "execution_count": 32,
   "metadata": {},
   "outputs": [],
   "source": [
    "class Head(nn.Module):\n",
    "    def __init__(self, head_size, n_embeddings, context_length):\n",
    "        super().__init__()\n",
    "        self.key = nn.Linear(n_embeddings, head_size, bias=False)\n",
    "        self.query = nn.Linear(n_embeddings, head_size, bias=False)\n",
    "        self.value = nn.Linear(n_embeddings, head_size, bias=False)\n",
    "        self.register_buffer('tril', torch.tril(torch.ones(context_length, context_length)))\n",
    "    def forward(self, x):\n",
    "        batch_size, context_length, channel = x.shape\n",
    "        k = self.key(x) # (batch_size, context_length, channel)\n",
    "        q = self.query(x) # (batch_size, context_length, channel)\n",
    "        # attention scores (\"affinities\")\n",
    "        weighted_aggregation = q @ k.transpose(-2,-1) * channel**-0.5 # (batch_size, context_length, channel) @ (batch_size, channel, context_length) -> (batch_size, context_length, context_length)\n",
    "        weighted_aggregation = weighted_aggregation.masked_fill(self.tril[:context_length, :context_length] == 0, float('-inf')) # (batch_size, context_length, context_length)\n",
    "        weighted_aggregation = F.softmax(weighted_aggregation, dim=-1) # (batch_size, context_length, context_length)\n",
    "        # weighted aggregation of the values\n",
    "        v = self.value(x) # (batch_size, context_length, channel)\n",
    "        return weighted_aggregation @ v # (batch_size, context_length, context_length) @  (batch_size, context_length, channel) ->  (batch_size, context_length, channel)"
   ]
  },
  {
   "cell_type": "code",
   "execution_count": 33,
   "metadata": {},
   "outputs": [],
   "source": [
    "import torch.nn as nn\n",
    "import torch.nn.functional as F\n",
    "\n",
    "vocabulary_size = len(sorted_chars) # unique chars in dataset\n",
    "n_embeddings = 32\n",
    "\n",
    "class BigramModel(nn.Module):\n",
    "    def __init__(self, vocabulary_size, n_embeddings):\n",
    "        super().__init__()\n",
    "        self.token_embedding_table = nn.Embedding(vocabulary_size, n_embeddings)\n",
    "        self.position_embedding_table = nn.Embedding(context_length, n_embeddings) # positions at which the tokens occur\n",
    "        self.self_attention_head = Head(n_embeddings, n_embeddings, context_length)\n",
    "        self.lm_head = nn.Linear(n_embeddings, vocabulary_size)\n",
    "        \n",
    "    def forward(self, idx, targets=None):\n",
    "        batch_size, context_length = idx.shape\n",
    "        \n",
    "        token_embedding = self.token_embedding_table(idx) # returns (batch, time, channel) = (batch_size, context_length, vocabulary_size)\n",
    "        position_embedding = self.position_embedding_table(torch.arange(context_length, device=device)) # (context_size, channel)\n",
    "        x = token_embedding + position_embedding # (batch_size, context_length, channel) - information for both tokens' identities and their positions                                                   \n",
    "        x = self.self_attention_head(x)\n",
    "        logits = self.lm_head(x) # (batch, context_length, vocabulary_size)\n",
    "        \n",
    "        if targets is None:\n",
    "            loss = None\n",
    "        else:        \n",
    "            batch, time, channel = logits.shape\n",
    "            \n",
    "            logits = logits.view(batch * time, channel)\n",
    "            targets = targets.view(batch * time)\n",
    "            \n",
    "            loss = F.cross_entropy(logits, targets)\n",
    "        \n",
    "        return logits, loss\n",
    "    \n",
    "    def generate(self, idx, max_new_tokens):\n",
    "        # idx is (batch_size, context_length) array of indices in the current context\n",
    "        for _ in range(max_new_tokens):\n",
    "            idx_cond = idx[:, -context_length] # crop context\n",
    "            \n",
    "            logits, loss = self(idx_cond)\n",
    "            logits = logits[:, -1, :] # becomes (batch_size, channel)\n",
    "\n",
    "            probs = F.softmax(logits, dim=-1) # (batch_size, channel)\n",
    "            \n",
    "            next_idx = torch.multinomial(probs, num_samples=1) # (batch_size, 1)\n",
    "            \n",
    "            idx = torch.cat((idx, next_idx), dim=1) # (batch_size, context_length + 1)\n",
    "        return idx"
   ]
  },
  {
   "cell_type": "code",
   "execution_count": null,
   "metadata": {},
   "outputs": [],
   "source": []
  }
 ],
 "metadata": {
  "kernelspec": {
   "display_name": "env",
   "language": "python",
   "name": "python3"
  },
  "language_info": {
   "codemirror_mode": {
    "name": "ipython",
    "version": 3
   },
   "file_extension": ".py",
   "mimetype": "text/x-python",
   "name": "python",
   "nbconvert_exporter": "python",
   "pygments_lexer": "ipython3",
   "version": "3.12.3"
  }
 },
 "nbformat": 4,
 "nbformat_minor": 2
}
