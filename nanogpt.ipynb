{
 "cells": [
  {
   "cell_type": "markdown",
   "metadata": {},
   "source": [
    "# Dataset"
   ]
  },
  {
   "cell_type": "code",
   "execution_count": 2,
   "metadata": {},
   "outputs": [
    {
     "name": "stdout",
     "output_type": "stream",
     "text": [
      "--2024-09-21 23:14:11--  https://chitanka.info/text/4618-frankenshtajn.txt.zip\n",
      "Resolving chitanka.info (chitanka.info)... 2a06:98c1:3120::2, 2a06:98c1:3121::2, 188.114.96.2, ...\n",
      "Connecting to chitanka.info (chitanka.info)|2a06:98c1:3120::2|:443... connected.\n",
      "HTTP request sent, awaiting response... 302 Found\n",
      "Location: https://m3.chitanka.info/text/4618-frankenshtajn.txt.zip?filename= [following]\n",
      "--2024-09-21 23:14:11--  https://m3.chitanka.info/text/4618-frankenshtajn.txt.zip?filename=\n",
      "Resolving m3.chitanka.info (m3.chitanka.info)... 2a06:98c1:3121::2, 2a06:98c1:3120::2, 188.114.96.2, ...\n",
      "Connecting to m3.chitanka.info (m3.chitanka.info)|2a06:98c1:3121::2|:443... connected.\n",
      "HTTP request sent, awaiting response... 302 Found\n",
      "Location: /cache/dl/Mary-Shelley_-_Frankenshtajn_-_4618.txt.zip [following]\n",
      "--2024-09-21 23:14:11--  https://m3.chitanka.info/cache/dl/Mary-Shelley_-_Frankenshtajn_-_4618.txt.zip\n",
      "Reusing existing connection to [m3.chitanka.info]:443.\n",
      "HTTP request sent, awaiting response... 200 OK\n",
      "Length: 199044 (194K) [application/zip]\n",
      "Saving to: ‘4618-frankenshtajn.txt.zip’\n",
      "\n",
      "4618-frankenshtajn. 100%[===================>] 194.38K  --.-KB/s    in 0.04s   \n",
      "\n",
      "2024-09-21 23:14:11 (4.52 MB/s) - ‘4618-frankenshtajn.txt.zip’ saved [199044/199044]\n",
      "\n"
     ]
    }
   ],
   "source": [
    "import zipfile\n",
    "\n",
    "!wget https://chitanka.info/text/4618-frankenshtajn.txt.zip\n",
    "\n",
    "path = \"4618-frankenshtajn.txt.zip\"\n",
    "\n",
    "with zipfile.ZipFile(path, 'r') as zip_ref:\n",
    "    zip_ref.extractall(\".\")\n",
    "    \n",
    "!mv \"Mary-Shelley -  - . Frankenshtajn - 4618.txt\" \"dataset.txt\"\n",
    "\n",
    "!rm $path\n"
   ]
  },
  {
   "cell_type": "code",
   "execution_count": 3,
   "metadata": {},
   "outputs": [],
   "source": [
    "with open(\"dataset.txt\", \"r\") as f:\n",
    "    text = f.read()"
   ]
  },
  {
   "cell_type": "markdown",
   "metadata": {},
   "source": [
    "# Vocabulary"
   ]
  },
  {
   "cell_type": "code",
   "execution_count": 4,
   "metadata": {},
   "outputs": [
    {
     "data": {
      "text/plain": [
       "'\\t\\n !$()*,-./0123456789:;=?DIMNVX[]_abcdefghijkmnoprstuvx«»АБВГДЕЖЗИКЛМНОПРСТУФХЦЧШЩЮЯабвгдежзийклмнопрстуфхцчшщъьюя–—“„…\\ufeff'"
      ]
     },
     "execution_count": 4,
     "metadata": {},
     "output_type": "execute_result"
    }
   ],
   "source": [
    "unique_chars = set(text)\n",
    "sorted_chars = sorted(unique_chars)\n",
    "sorted_chars\n",
    "\"\".join(sorted_chars)"
   ]
  },
  {
   "cell_type": "markdown",
   "metadata": {},
   "source": [
    "# Tokenizer"
   ]
  },
  {
   "cell_type": "code",
   "execution_count": 25,
   "metadata": {},
   "outputs": [],
   "source": [
    "encoding = { c: i for i, c in enumerate(sorted_chars) }\n",
    "\n",
    "def encode(text: str):\n",
    "    return [encoding[c] for c in text]\n",
    "\n",
    "def test_encode():\n",
    "    test_text = \"франкейщайн!\"\n",
    "    test_encoding = encode(test_text)\n",
    "    assert test_encoding[0] == encoding[test_text[0]]\n",
    "    assert test_encoding[1] == encoding[test_text[1]]\n",
    "    \n",
    "# test_encode()\n",
    "\n",
    "decoding = { i: c for i, c in enumerate(sorted_chars) }\n",
    "\n",
    "test_text = \"франкейщайн!\"\n",
    "test_encoding = encode(test_text)\n",
    "\n",
    "def decode(arr):\n",
    "    return \"\".join([decoding[t] for t in arr])\n",
    "\n",
    "def test_decode():\n",
    "    test_text = \"франкейщайн!\"\n",
    "    assert decode(encode(test_text)) == test_text\n",
    "    \n",
    "# test_decode()"
   ]
  },
  {
   "cell_type": "code",
   "execution_count": 26,
   "metadata": {},
   "outputs": [
    {
     "data": {
      "text/plain": [
       "tensor([120,   0,  69,  ...,  13,   1,   1])"
      ]
     },
     "execution_count": 26,
     "metadata": {},
     "output_type": "execute_result"
    }
   ],
   "source": [
    "import torch\n",
    "\n",
    "data = torch.tensor(encode(text))\n",
    "\n",
    "data"
   ]
  },
  {
   "cell_type": "code",
   "execution_count": 27,
   "metadata": {},
   "outputs": [
    {
     "data": {
      "text/plain": [
       "tensor([120,   0,  69,  ..., 102,  95,  99])"
      ]
     },
     "execution_count": 27,
     "metadata": {},
     "output_type": "execute_result"
    }
   ],
   "source": [
    "train_data_size = round(len(data) * 0.9)\n",
    "\n",
    "train_data = data[:train_data_size]\n",
    "\n",
    "train_data"
   ]
  },
  {
   "cell_type": "code",
   "execution_count": 28,
   "metadata": {},
   "outputs": [
    {
     "data": {
      "text/plain": [
       "tensor([103,  99,   2,  ...,  13,   1,   1])"
      ]
     },
     "execution_count": 28,
     "metadata": {},
     "output_type": "execute_result"
    }
   ],
   "source": [
    "val_data = data[train_data_size:]\n",
    "\n",
    "val_data"
   ]
  },
  {
   "cell_type": "markdown",
   "metadata": {},
   "source": [
    "# Model input and output (output = input[last + 1])"
   ]
  },
  {
   "cell_type": "code",
   "execution_count": 29,
   "metadata": {},
   "outputs": [
    {
     "data": {
      "text/plain": [
       "tensor([120,   0,  69,  90, 101,  93,   2,  81,  90])"
      ]
     },
     "execution_count": 29,
     "metadata": {},
     "output_type": "execute_result"
    }
   ],
   "source": [
    "context_length = 8\n",
    "\n",
    "train_data[:context_length+1]"
   ]
  },
  {
   "cell_type": "code",
   "execution_count": 30,
   "metadata": {},
   "outputs": [
    {
     "data": {
      "text/plain": [
       "tensor([120,   0,  69,  90, 101,  93,   2,  81])"
      ]
     },
     "execution_count": 30,
     "metadata": {},
     "output_type": "execute_result"
    }
   ],
   "source": [
    "model_input = train_data[:context_length]\n",
    "\n",
    "model_input"
   ]
  },
  {
   "cell_type": "code",
   "execution_count": 31,
   "metadata": {},
   "outputs": [
    {
     "data": {
      "text/plain": [
       "'\\ufeff\\tМери Ш'"
      ]
     },
     "execution_count": 31,
     "metadata": {},
     "output_type": "execute_result"
    }
   ],
   "source": [
    "decode(model_input.numpy().tolist())"
   ]
  },
  {
   "cell_type": "code",
   "execution_count": 32,
   "metadata": {},
   "outputs": [
    {
     "data": {
      "text/plain": [
       "tensor(90)"
      ]
     },
     "execution_count": 32,
     "metadata": {},
     "output_type": "execute_result"
    }
   ],
   "source": [
    "model_output = train_data[1:context_length+1]\n",
    "\n",
    "model_output[-1]"
   ]
  },
  {
   "cell_type": "code",
   "execution_count": 33,
   "metadata": {},
   "outputs": [
    {
     "data": {
      "text/plain": [
       "'е'"
      ]
     },
     "execution_count": 33,
     "metadata": {},
     "output_type": "execute_result"
    }
   ],
   "source": [
    "decode(model_output.numpy().tolist())[-1]"
   ]
  },
  {
   "cell_type": "markdown",
   "metadata": {},
   "source": [
    "# Batch"
   ]
  },
  {
   "cell_type": "code",
   "execution_count": 34,
   "metadata": {},
   "outputs": [],
   "source": [
    "device = \"cuda\" if torch.cuda.is_available() else \"cpu\"\n",
    "\n",
    "def get_batch(split: str, batch_size: int, context_length: int):\n",
    "    batch_data = train_data if split == \"train\" else val_data\n",
    "    ix = torch.randint(len(batch_data) - context_length, (batch_size,))\n",
    "\n",
    "    x = torch.stack([batch_data[i:i+context_length] for i in ix])\n",
    "        \n",
    "    y = torch.stack([batch_data[i+1:i+context_length+1] for i in ix])\n",
    "    \n",
    "    x, y = x.to(device), y.to(device)\n",
    "    \n",
    "    return x, y"
   ]
  },
  {
   "cell_type": "markdown",
   "metadata": {},
   "source": [
    "# Log loss"
   ]
  },
  {
   "cell_type": "code",
   "execution_count": 35,
   "metadata": {},
   "outputs": [],
   "source": [
    "@torch.no_grad()\n",
    "def estimate_loss(model, iterations, batch_size, context_length):\n",
    "    estimation = {}\n",
    "    model.eval()\n",
    "    for split in [\"train\", \"val\"]:\n",
    "        losses = torch.zeros(iterations)\n",
    "        for k in range(iterations):\n",
    "            X, Y = get_batch(split, batch_size, context_length)\n",
    "            X, Y = X.to(device), Y.to(device)\n",
    "            _, loss = model(X, Y)\n",
    "            losses[k] = loss.item()\n",
    "        estimation[split] = losses.mean()\n",
    "    model.train()\n",
    "    return estimation"
   ]
  },
  {
   "cell_type": "markdown",
   "metadata": {},
   "source": [
    "# Bigram model"
   ]
  },
  {
   "cell_type": "code",
   "execution_count": 43,
   "metadata": {},
   "outputs": [
    {
     "name": "stdout",
     "output_type": "stream",
     "text": [
      "\tаШкУ„﻿agюлщ–ихфкДТзГ„ц5ДИ=$,aКДщhРжж4]сШDи6ъЩD.,(чмр/?taГ﻿ИПkш-П-9…)(хщb–u“;па;н«гнв;ЖЗ﻿нNюcsXxщ=jБD\n"
     ]
    }
   ],
   "source": [
    "import torch.nn as nn\n",
    "import torch.nn.functional as F\n",
    "\n",
    "vocabulary_size = len(sorted_chars) # unique chars in dataset\n",
    "\n",
    "class BigramModel(nn.Module):\n",
    "    def __init__(self, vocabulary_size):\n",
    "        super().__init__()\n",
    "        self.token_embedding_table = nn.Embedding(vocabulary_size, vocabulary_size)\n",
    "        \n",
    "    def forward(self, idx, targets=None):\n",
    "        logits = self.token_embedding_table(idx) # returns (batch, time, channel) = (batch_size, context_length, vocabulary_size)\n",
    "        \n",
    "        if targets is None:\n",
    "            loss = None\n",
    "        else:        \n",
    "            batch, time, channel = logits.shape\n",
    "            \n",
    "            logits = logits.view(batch * time, channel)\n",
    "            targets = targets.view(batch * time)\n",
    "            \n",
    "            loss = F.cross_entropy(logits, targets)\n",
    "        \n",
    "        return logits, loss\n",
    "    \n",
    "    def generate(self, idx, max_new_tokens):\n",
    "        # idx is (batch_size, context_length) array of indices in the current context\n",
    "        for _ in range(max_new_tokens):\n",
    "            logits, loss = self(idx)\n",
    "            logits = logits[:, -1, :] # becomes (batch_size, channel)\n",
    "\n",
    "            probs = F.softmax(logits, dim=-1) # (batch_size, channel)\n",
    "            \n",
    "            next_idx = torch.multinomial(probs, num_samples=1) # (batch_size, 1)\n",
    "            \n",
    "            idx = torch.cat((idx, next_idx), dim=1) # (batch_size, context_length + 1)\n",
    "        return idx\n",
    "    \n",
    "m = BigramModel(vocabulary_size)\n",
    "\n",
    "model = m.to(device)\n",
    "\n",
    "idx = torch.zeros((1, 1), dtype=torch.long, device=device)\n",
    "\n",
    "generated = model.generate(idx, max_new_tokens=100)[0].tolist()\n",
    "\n",
    "print(decode(generated)) # ~ random generation, model not trained"
   ]
  },
  {
   "cell_type": "markdown",
   "metadata": {},
   "source": [
    "# Bigram model training"
   ]
  },
  {
   "cell_type": "code",
   "execution_count": 44,
   "metadata": {},
   "outputs": [],
   "source": [
    "def train_bigram_model(max_iterations=10000, iterations_interval=100, eval_iterations=50, batch_size=32, learning_rate=1e-3, model=model, context_length=8):\n",
    "    train_losses = []\n",
    "    val_losses = []\n",
    "    steps = []\n",
    "\n",
    "    optimizer = torch.optim.Adam(model.parameters(), lr=learning_rate)\n",
    "\n",
    "    for iteration in range(max_iterations):\n",
    "        if iteration % iterations_interval == 0:\n",
    "            losses = estimate_loss(model, eval_iterations, batch_size, context_length)\n",
    "            print(f\"step {iteration}: train loss {losses['train']:.4f}, val loss {losses['val']:.4f}\")\n",
    "            train_losses.append(losses['train'])\n",
    "            val_losses.append(losses['val'])\n",
    "            steps.append(iteration)\n",
    "            \n",
    "        xb, yb = get_batch(\"train\", batch_size, context_length)\n",
    "        \n",
    "        _, loss = model(xb, yb)\n",
    "        optimizer.zero_grad(set_to_none=True)\n",
    "        loss.backward()\n",
    "        optimizer.step()\n",
    "        \n",
    "    return train_losses, val_losses, steps"
   ]
  },
  {
   "cell_type": "code",
   "execution_count": 45,
   "metadata": {},
   "outputs": [
    {
     "name": "stdout",
     "output_type": "stream",
     "text": [
      "step 0: train loss 5.1030, val loss 5.0883\n",
      "step 100: train loss 4.9780, val loss 4.9693\n",
      "step 200: train loss 4.8544, val loss 4.8376\n",
      "step 300: train loss 4.7154, val loss 4.7216\n",
      "step 400: train loss 4.6191, val loss 4.5889\n",
      "step 500: train loss 4.4895, val loss 4.4855\n",
      "step 600: train loss 4.3831, val loss 4.3664\n",
      "step 700: train loss 4.2688, val loss 4.2450\n",
      "step 800: train loss 4.1615, val loss 4.1444\n",
      "step 900: train loss 4.0569, val loss 4.0463\n",
      "step 1000: train loss 3.9780, val loss 3.9607\n",
      "step 1100: train loss 3.8901, val loss 3.8532\n",
      "step 1200: train loss 3.8104, val loss 3.7835\n",
      "step 1300: train loss 3.6939, val loss 3.7100\n",
      "step 1400: train loss 3.6322, val loss 3.6166\n",
      "step 1500: train loss 3.5548, val loss 3.5418\n",
      "step 1600: train loss 3.4943, val loss 3.4924\n",
      "step 1700: train loss 3.4293, val loss 3.4134\n",
      "step 1800: train loss 3.3516, val loss 3.3513\n",
      "step 1900: train loss 3.2872, val loss 3.2767\n",
      "step 2000: train loss 3.2320, val loss 3.2510\n",
      "step 2100: train loss 3.2010, val loss 3.1932\n",
      "step 2200: train loss 3.1474, val loss 3.1355\n",
      "step 2300: train loss 3.1103, val loss 3.1073\n",
      "step 2400: train loss 3.0693, val loss 3.0653\n",
      "step 2500: train loss 3.0164, val loss 3.0129\n",
      "step 2600: train loss 2.9758, val loss 2.9787\n",
      "step 2700: train loss 2.9518, val loss 2.9523\n",
      "step 2800: train loss 2.9041, val loss 2.9135\n",
      "step 2900: train loss 2.8828, val loss 2.8880\n",
      "step 3000: train loss 2.8491, val loss 2.8467\n",
      "step 3100: train loss 2.8392, val loss 2.8117\n",
      "step 3200: train loss 2.8096, val loss 2.8163\n",
      "step 3300: train loss 2.7683, val loss 2.7663\n",
      "step 3400: train loss 2.7728, val loss 2.7466\n",
      "step 3500: train loss 2.7414, val loss 2.7375\n",
      "step 3600: train loss 2.7291, val loss 2.7137\n",
      "step 3700: train loss 2.7162, val loss 2.6974\n",
      "step 3800: train loss 2.6782, val loss 2.6757\n",
      "step 3900: train loss 2.6795, val loss 2.6619\n",
      "step 4000: train loss 2.6633, val loss 2.6561\n",
      "step 4100: train loss 2.6478, val loss 2.6526\n",
      "step 4200: train loss 2.6473, val loss 2.6218\n",
      "step 4300: train loss 2.6262, val loss 2.6202\n",
      "step 4400: train loss 2.6100, val loss 2.6004\n",
      "step 4500: train loss 2.6154, val loss 2.6169\n",
      "step 4600: train loss 2.5944, val loss 2.5868\n",
      "step 4700: train loss 2.5984, val loss 2.5815\n",
      "step 4800: train loss 2.5763, val loss 2.5899\n",
      "step 4900: train loss 2.5838, val loss 2.5570\n",
      "step 5000: train loss 2.5793, val loss 2.5605\n",
      "step 5100: train loss 2.5629, val loss 2.5558\n",
      "step 5200: train loss 2.5597, val loss 2.5620\n",
      "step 5300: train loss 2.5414, val loss 2.5387\n",
      "step 5400: train loss 2.5265, val loss 2.5543\n",
      "step 5500: train loss 2.5254, val loss 2.5446\n",
      "step 5600: train loss 2.5407, val loss 2.5455\n",
      "step 5700: train loss 2.5192, val loss 2.5373\n",
      "step 5800: train loss 2.5266, val loss 2.5185\n",
      "step 5900: train loss 2.5230, val loss 2.5306\n",
      "step 6000: train loss 2.5127, val loss 2.5261\n",
      "step 6100: train loss 2.4988, val loss 2.4938\n",
      "step 6200: train loss 2.5201, val loss 2.5271\n",
      "step 6300: train loss 2.5083, val loss 2.5095\n",
      "step 6400: train loss 2.5092, val loss 2.4921\n",
      "step 6500: train loss 2.4943, val loss 2.4916\n",
      "step 6600: train loss 2.5034, val loss 2.4920\n",
      "step 6700: train loss 2.4842, val loss 2.5314\n",
      "step 6800: train loss 2.4771, val loss 2.4898\n",
      "step 6900: train loss 2.4929, val loss 2.4909\n",
      "step 7000: train loss 2.5081, val loss 2.5060\n",
      "step 7100: train loss 2.4831, val loss 2.4772\n",
      "step 7200: train loss 2.4946, val loss 2.4838\n",
      "step 7300: train loss 2.4804, val loss 2.4899\n",
      "step 7400: train loss 2.4904, val loss 2.4852\n",
      "step 7500: train loss 2.4946, val loss 2.4633\n",
      "step 7600: train loss 2.4681, val loss 2.4874\n",
      "step 7700: train loss 2.4767, val loss 2.4706\n",
      "step 7800: train loss 2.4819, val loss 2.4898\n",
      "step 7900: train loss 2.4776, val loss 2.4824\n",
      "step 8000: train loss 2.4701, val loss 2.4880\n",
      "step 8100: train loss 2.4790, val loss 2.4594\n",
      "step 8200: train loss 2.4800, val loss 2.4734\n",
      "step 8300: train loss 2.4757, val loss 2.4505\n",
      "step 8400: train loss 2.4474, val loss 2.4612\n",
      "step 8500: train loss 2.4799, val loss 2.4687\n",
      "step 8600: train loss 2.4677, val loss 2.4597\n",
      "step 8700: train loss 2.4693, val loss 2.4602\n",
      "step 8800: train loss 2.4571, val loss 2.4765\n",
      "step 8900: train loss 2.4666, val loss 2.4692\n",
      "step 9000: train loss 2.4669, val loss 2.4664\n",
      "step 9100: train loss 2.4517, val loss 2.4577\n",
      "step 9200: train loss 2.4550, val loss 2.4549\n",
      "step 9300: train loss 2.4430, val loss 2.4626\n",
      "step 9400: train loss 2.4653, val loss 2.4483\n",
      "step 9500: train loss 2.4564, val loss 2.4549\n",
      "step 9600: train loss 2.4611, val loss 2.4569\n",
      "step 9700: train loss 2.4526, val loss 2.4432\n",
      "step 9800: train loss 2.4492, val loss 2.4381\n",
      "step 9900: train loss 2.4277, val loss 2.4667\n",
      "step 0: train loss 5.2054, val loss 5.2237\n",
      "step 100: train loss 4.0617, val loss 4.0469\n",
      "step 200: train loss 3.3323, val loss 3.3396\n",
      "step 300: train loss 2.9312, val loss 2.9230\n",
      "step 400: train loss 2.7232, val loss 2.7227\n",
      "step 500: train loss 2.6107, val loss 2.6245\n",
      "step 600: train loss 2.5491, val loss 2.5540\n",
      "step 700: train loss 2.5362, val loss 2.5330\n",
      "step 800: train loss 2.5126, val loss 2.5102\n",
      "step 900: train loss 2.5006, val loss 2.4763\n",
      "step 1000: train loss 2.4848, val loss 2.4982\n",
      "step 1100: train loss 2.4563, val loss 2.4893\n",
      "step 1200: train loss 2.4782, val loss 2.4681\n",
      "step 1300: train loss 2.4663, val loss 2.4728\n",
      "step 1400: train loss 2.4539, val loss 2.4694\n",
      "step 1500: train loss 2.4663, val loss 2.4579\n",
      "step 1600: train loss 2.4369, val loss 2.4735\n",
      "step 1700: train loss 2.4691, val loss 2.4510\n",
      "step 1800: train loss 2.4696, val loss 2.4683\n",
      "step 1900: train loss 2.4526, val loss 2.4533\n",
      "step 2000: train loss 2.4378, val loss 2.4458\n",
      "step 2100: train loss 2.4447, val loss 2.4503\n",
      "step 2200: train loss 2.4401, val loss 2.4518\n",
      "step 2300: train loss 2.4595, val loss 2.4312\n",
      "step 2400: train loss 2.4567, val loss 2.4359\n",
      "step 2500: train loss 2.4245, val loss 2.4523\n",
      "step 2600: train loss 2.4422, val loss 2.4410\n",
      "step 2700: train loss 2.4507, val loss 2.4449\n",
      "step 2800: train loss 2.4563, val loss 2.4395\n",
      "step 2900: train loss 2.4553, val loss 2.4411\n",
      "step 3000: train loss 2.4417, val loss 2.4387\n",
      "step 3100: train loss 2.4295, val loss 2.4458\n",
      "step 3200: train loss 2.4386, val loss 2.4306\n",
      "step 3300: train loss 2.4288, val loss 2.4563\n",
      "step 3400: train loss 2.4619, val loss 2.4592\n",
      "step 3500: train loss 2.4362, val loss 2.4377\n",
      "step 3600: train loss 2.4419, val loss 2.4424\n",
      "step 3700: train loss 2.4306, val loss 2.4262\n",
      "step 3800: train loss 2.4405, val loss 2.4375\n",
      "step 3900: train loss 2.4391, val loss 2.4383\n",
      "step 4000: train loss 2.4390, val loss 2.4416\n",
      "step 4100: train loss 2.4410, val loss 2.4461\n",
      "step 4200: train loss 2.4450, val loss 2.4219\n",
      "step 4300: train loss 2.4220, val loss 2.4499\n",
      "step 4400: train loss 2.4340, val loss 2.4504\n",
      "step 4500: train loss 2.4319, val loss 2.4538\n",
      "step 4600: train loss 2.4346, val loss 2.4373\n",
      "step 4700: train loss 2.4427, val loss 2.4492\n",
      "step 4800: train loss 2.4377, val loss 2.4617\n",
      "step 4900: train loss 2.4341, val loss 2.4509\n",
      "step 5000: train loss 2.4426, val loss 2.4466\n",
      "step 5100: train loss 2.4347, val loss 2.4336\n",
      "step 5200: train loss 2.4382, val loss 2.4488\n",
      "step 5300: train loss 2.4510, val loss 2.4434\n",
      "step 5400: train loss 2.4455, val loss 2.4504\n",
      "step 5500: train loss 2.4270, val loss 2.4496\n",
      "step 5600: train loss 2.4380, val loss 2.4427\n",
      "step 5700: train loss 2.4289, val loss 2.4387\n",
      "step 5800: train loss 2.4390, val loss 2.4489\n",
      "step 5900: train loss 2.4415, val loss 2.4457\n",
      "step 6000: train loss 2.4360, val loss 2.4465\n",
      "step 6100: train loss 2.4418, val loss 2.4506\n",
      "step 6200: train loss 2.4451, val loss 2.4303\n",
      "step 6300: train loss 2.4363, val loss 2.4610\n",
      "step 6400: train loss 2.4372, val loss 2.4280\n",
      "step 6500: train loss 2.4351, val loss 2.4353\n",
      "step 6600: train loss 2.4418, val loss 2.4353\n",
      "step 6700: train loss 2.4404, val loss 2.4357\n",
      "step 6800: train loss 2.4442, val loss 2.4461\n",
      "step 6900: train loss 2.4418, val loss 2.4467\n",
      "step 7000: train loss 2.4372, val loss 2.4558\n",
      "step 7100: train loss 2.4350, val loss 2.4676\n",
      "step 7200: train loss 2.4462, val loss 2.4490\n",
      "step 7300: train loss 2.4264, val loss 2.4579\n",
      "step 7400: train loss 2.4241, val loss 2.4597\n",
      "step 7500: train loss 2.4372, val loss 2.4443\n",
      "step 7600: train loss 2.4297, val loss 2.4348\n",
      "step 7700: train loss 2.4390, val loss 2.4442\n",
      "step 7800: train loss 2.4372, val loss 2.4476\n",
      "step 7900: train loss 2.4294, val loss 2.4417\n",
      "step 8000: train loss 2.4340, val loss 2.4449\n",
      "step 8100: train loss 2.4475, val loss 2.4592\n",
      "step 8200: train loss 2.4183, val loss 2.4503\n",
      "step 8300: train loss 2.4487, val loss 2.4413\n",
      "step 8400: train loss 2.4279, val loss 2.4326\n",
      "step 8500: train loss 2.4346, val loss 2.4510\n",
      "step 8600: train loss 2.4398, val loss 2.4639\n",
      "step 8700: train loss 2.4436, val loss 2.4433\n",
      "step 8800: train loss 2.4470, val loss 2.4562\n",
      "step 8900: train loss 2.4371, val loss 2.4401\n",
      "step 9000: train loss 2.4252, val loss 2.4274\n",
      "step 9100: train loss 2.4292, val loss 2.4538\n",
      "step 9200: train loss 2.4309, val loss 2.4213\n",
      "step 9300: train loss 2.4530, val loss 2.4463\n",
      "step 9400: train loss 2.4388, val loss 2.4571\n",
      "step 9500: train loss 2.4347, val loss 2.4331\n",
      "step 9600: train loss 2.4350, val loss 2.4530\n",
      "step 9700: train loss 2.4444, val loss 2.4389\n",
      "step 9800: train loss 2.4461, val loss 2.4531\n",
      "step 9900: train loss 2.4171, val loss 2.4552\n"
     ]
    },
    {
     "data": {
      "image/png": "[encoded data removed]",
      "text/plain": [
       "<Figure size 1200x600 with 2 Axes>"
      ]
     },
     "metadata": {},
     "output_type": "display_data"
    }
   ],
   "source": [
    "import matplotlib.pyplot as plt\n",
    "\n",
    "train_losses, val_losses, steps = train_bigram_model()\n",
    "\n",
    "fig, (ax1, ax2) = plt.subplots(1, 2, figsize=(12, 6))\n",
    "\n",
    "ax1.plot(steps, train_losses, label=\"Training loss\")\n",
    "ax1.plot(steps, val_losses, label=\"Validation loss\")\n",
    "ax1.set_xlabel(\"Iterations\")\n",
    "ax1.set_ylabel(\"Loss\")\n",
    "ax1.set_title(\"Bigram model training and validation loss (lr = 1e-3)\")\n",
    "ax1.legend()\n",
    "\n",
    "m = BigramModel(vocabulary_size)\n",
    "\n",
    "model = m.to(device)\n",
    "\n",
    "train_losses, val_losses, steps = train_bigram_model(learning_rate=1e-2, model=model)\n",
    "\n",
    "ax2.plot(steps, train_losses, label=\"Training loss\")\n",
    "ax2.plot(steps, val_losses, label=\"Validation loss\")\n",
    "ax2.set_xlabel(\"Iterations\")\n",
    "ax2.set_ylabel(\"Loss\")\n",
    "ax2.set_title(\"Bigram model training and validation loss (lr = 1e-2)\")\n",
    "ax2.legend()\n",
    "plt.tight_layout()\n",
    "plt.show()"
   ]
  },
  {
   "cell_type": "code",
   "execution_count": 49,
   "metadata": {},
   "outputs": [
    {
     "name": "stdout",
     "output_type": "stream",
     "text": [
      "\tСтастаро о бя ва мият.\n",
      "\tТямеотияхо съмак по, Сле еля намедне, ри а не сайт м се побечих.\n",
      "\tЕре обетве, сълосъламе бще овуспроскъра пе се сумъдена на азви веледяз наше и соблетето м, — т надаме кияк; ма, мявикотятот но и ни те погаведъряко Са бе ланилите нада ра аша детиди о-ханактозатова побякако ста\n"
     ]
    }
   ],
   "source": [
    "idx = torch.zeros((1, 1), dtype=torch.long, device=device)\n",
    "\n",
    "generated = model.generate(idx, max_new_tokens=300)[0].tolist()\n",
    "\n",
    "print(decode(generated))"
   ]
  }
 ],
 "metadata": {
  "kernelspec": {
   "display_name": "env",
   "language": "python",
   "name": "python3"
  },
  "language_info": {
   "codemirror_mode": {
    "name": "ipython",
    "version": 3
   },
   "file_extension": ".py",
   "mimetype": "text/x-python",
   "name": "python",
   "nbconvert_exporter": "python",
   "pygments_lexer": "ipython3",
   "version": "3.12.3"
  }
 },
 "nbformat": 4,
 "nbformat_minor": 2
}
